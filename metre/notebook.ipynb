{
 "cells": [
  {
   "cell_type": "code",
   "execution_count": 30,
   "id": "54a49781",
   "metadata": {},
   "outputs": [
    {
     "name": "stderr",
     "output_type": "stream",
     "text": [
      "2021-12-02 14:39:53 WARNING: Language es package ancora expects mwt, which has been added\n",
      "2021-12-02 14:39:53 INFO: Loading these models for language: es (Spanish):\n",
      "=======================\n",
      "| Processor | Package |\n",
      "-----------------------\n",
      "| tokenize  | ancora  |\n",
      "| mwt       | ancora  |\n",
      "| pos       | ancora  |\n",
      "| lemma     | ancora  |\n",
      "| depparse  | ancora  |\n",
      "| ner       | ancora  |\n",
      "=======================\n",
      "\n",
      "2021-12-02 14:39:53 INFO: Use device: cpu\n",
      "2021-12-02 14:39:53 INFO: Loading: tokenize\n",
      "2021-12-02 14:39:53 INFO: Loading: mwt\n",
      "2021-12-02 14:39:53 INFO: Loading: pos\n",
      "2021-12-02 14:39:54 INFO: Loading: lemma\n",
      "2021-12-02 14:39:54 INFO: Loading: depparse\n",
      "2021-12-02 14:39:54 INFO: Loading: ner\n",
      "2021-12-02 14:39:55 INFO: Done loading processors!\n"
     ]
    },
    {
     "name": "stdout",
     "output_type": "stream",
     "text": [
      "juez\n",
      "cruel\n",
      "fiel\n"
     ]
    }
   ],
   "source": [
    "from libscansion import silabas as slbs"
   ]
  },
  {
   "cell_type": "code",
   "execution_count": 32,
   "id": "76fabff1",
   "metadata": {},
   "outputs": [],
   "source": [
    "from fonemas import transcribe"
   ]
  },
  {
   "cell_type": "raw",
   "id": "dd148cc2",
   "metadata": {},
   "source": [
    "aa"
   ]
  },
  {
   "cell_type": "raw",
   "id": "3d1816e4",
   "metadata": {},
   "source": [
    "print(a)"
   ]
  },
  {
   "cell_type": "code",
   "execution_count": 33,
   "id": "1079f9fa",
   "metadata": {},
   "outputs": [],
   "source": [
    "########################################"
   ]
  },
  {
   "cell_type": "code",
   "execution_count": null,
   "id": "2c73b2c8",
   "metadata": {},
   "outputs": [],
   "source": [
    "########################################3\n",
    "# 1. Modules\n",
    "# 2. Optional visualisation variables\n",
    "# 3. Preprocessing functions\n",
    "# 4. Tabular functions\n",
    "# 5. Statistic functions\n",
    "# 6. Body"
   ]
  },
  {
   "cell_type": "code",
   "execution_count": 2,
   "id": "34bde2cd",
   "metadata": {},
   "outputs": [],
   "source": [
    "# 1. MODULES"
   ]
  },
  {
   "cell_type": "code",
   "execution_count": 1,
   "id": "0bfe2258",
   "metadata": {},
   "outputs": [],
   "source": [
    "# Import modules\n",
    "\n",
    "import pandas as pd\n",
    "import seaborn as sns\n",
    "import matplotlib.pyplot as plt\n",
    "import numpy as np\n",
    "import statsmodels.api as sm\n",
    "import statsmodels.formula.api as smf\n",
    "import collections\n",
    "import re\n",
    "from statsmodels.multivariate.manova import MANOVA"
   ]
  },
  {
   "cell_type": "code",
   "execution_count": 4,
   "id": "6b79bd7c",
   "metadata": {},
   "outputs": [],
   "source": [
    "# 2. VISUALISATION VARIABLES\n",
    "# Number of lines shown &c.\n",
    "\n",
    "pd.set_option('display.max_rows', None)\n",
    "pd.set_option('display.max_columns', None)\n",
    "pd.set_option('display.width', None)\n",
    "pd.set_option('display.max_colwidth', None)"
   ]
  },
  {
   "cell_type": "code",
   "execution_count": 5,
   "id": "1c4a94a8",
   "metadata": {},
   "outputs": [],
   "source": [
    "# 3. PREPROCESSING FUNCTIONS"
   ]
  },
  {
   "cell_type": "code",
   "execution_count": 2,
   "id": "4c8921e3",
   "metadata": {},
   "outputs": [],
   "source": [
    "# Añade columnas, cambia caracteres problemáticos, corrige columans de vocal escandidas con una librería obsoleta...\n",
    "\n",
    "def corrigetabla(data):\n",
    "    data['Vocal'] = ''\n",
    "    columnas = ['ac1','ac2','ac3','ac4','ac5','ac6','ac7','ac8','ac9','ac10','ac11','ac12','ac13','ac14','ac15']\n",
    "    # Cambio de +-+-+-+- a X_X_X_X_ para que en las fórmulas no confunda los caracteres con operadores matemáticos\n",
    "    data['Ritmo'] = data['Ritmo'].str.replace('+','X').str.replace('-','o')\n",
    "    for columna in columnas:\n",
    "        data[columna] = data[columna].astype(str).fillna('')\n",
    "    for index, row in data.iterrows():\n",
    "        for columna in columnas:\n",
    "            if len(row[columna]) == 0:\n",
    "                data.at[index, columna] = ''\n",
    "            data.at[index, columna] = re.sub('([AEIOU])[aeiou]', '\\1', row[columna]).lower()\n",
    "            data.at[index, columna] = re.sub('[aeiou]([AEIOU])', '\\1', row[columna]).lower()\n",
    "            data.at[index, columna] = re.sub('([aeiou])[iu]', '\\1', row[columna]).lower()\n",
    "            data.at[index, columna] = re.sub('([iu])([aeo])', '\\1', row[columna]).lower()\n",
    "            data.at[index, columna] = re.sub('([AEIOU])[IU]', '\\1', row[columna]).lower()\n",
    "            data.at[index, columna] = re.sub('[IU]([AEO])', '\\1', row[columna]).lower()\n",
    "        letras = ''.join(row[columnas]).replace('<na>','').strip()\n",
    "        a = collections.Counter(letras).most_common(1)[0][0]\n",
    "        data.at[index,'Vocal'] = a\n",
    "    return data"
   ]
  },
  {
   "cell_type": "code",
   "execution_count": 5,
   "id": "96e58e7f",
   "metadata": {},
   "outputs": [],
   "source": [
    "# 4. TABULAR FUNCTIONS"
   ]
  },
  {
   "cell_type": "code",
   "execution_count": 39,
   "id": "87c00905",
   "metadata": {},
   "outputs": [],
   "source": [
    "# Defino la función para sacar muestras\n",
    "# Toma como parámetros un data frame de ritmos,\n",
    "# una lista de autores,\n",
    "# y el número de obras por autor\n",
    "def samples(data, authors, nsamples):\n",
    "    import numpy as np\n",
    "    muestra = pd.DataFrame()\n",
    "    for i in authors:\n",
    "        g = data.loc[data['Author'] == i].groupby('Title')\n",
    "        a = np.arange(g.ngroups)\n",
    "        np.random.shuffle(a)\n",
    "        sample = sample.append(data.loc[df['Author'] == i][g.ngroup().isin(a[:nsamples])])\n",
    "    return sample"
   ]
  },
  {
   "cell_type": "code",
   "execution_count": 4,
   "id": "cc4dad9d",
   "metadata": {},
   "outputs": [],
   "source": [
    "# Averigua el número de muestras de cada obra y devuelve un df\n",
    "# con un número de muestras homogéneo para todas las obras\n",
    "# Toma como parámetros un data frame\n",
    "# y un entero (opcional) para un máximo de muestras\n",
    "def muestrasiguales(data, i=0):\n",
    "    resultado = pd.DataFrame()\n",
    "    obras = pd.unique(data['Pieza'])\n",
    "    if i == 0:\n",
    "        menor = min([len(data[data['Pieza'] == obra]) for obra in obras])\n",
    "    else:\n",
    "        menor = 100\n",
    "    for obra in obras:\n",
    "        resultado = resultado.append(\n",
    "# Usamos 42 como valor de aleatorización por tratarse de la respuesta a la vida, el universo y todo (cf. Adams 1979) \n",
    "            data[data['Pieza'] == obra].sample(n=menor, random_state = 42), ignore_index=True\n",
    "        )\n",
    "    return (resultado, menor)"
   ]
  },
  {
   "cell_type": "code",
   "execution_count": 5,
   "id": "cdef8657",
   "metadata": {},
   "outputs": [],
   "source": [
    "# Esta función está por si se necesita sacar valores relativos de alguna columna\n",
    "# Añade una nueva columna con el recuento de ritmos de un tipo por obra y recuento relativo versos/total\n",
    "# Toma como parámetros un data frame y la columna cuyo valor relativo hay que hallar\n",
    "def recuento(data, columna):\n",
    "    dfritmo = pd.DataFrame()\n",
    "    valores = pd.unique(data[columna])\n",
    "    obras = pd.unique(data['Pieza'])\n",
    "    for obra in obras:\n",
    "        nversos = len(data[data['Pieza'] == obra])\n",
    "        cuentas = {}\n",
    "        autor =  data.loc[data['Pieza'] == obra]['Autor'].value_counts()[:1].index.tolist()[0]\n",
    "        for valor in valores:\n",
    "            fila = {'Pieza': obra, 'Autor': autor}\n",
    "            cuenta = len(data.loc[data['Pieza'] == obra][data[columna] == valor])\n",
    "            relcuenta = cuenta/nversos\n",
    "            fila = {'Pieza': obra, 'Autor': autor, columna: valor, 'Cuenta': cuenta, 'RelCuenta' : relcuenta}\n",
    "            if cuenta > 0:           \n",
    "                dfritmo = dfritmo.append(fila, ignore_index=True)\n",
    "    return dfritmo.convert_dtypes()"
   ]
  },
  {
   "cell_type": "code",
   "execution_count": 6,
   "id": "0fd63e2c",
   "metadata": {},
   "outputs": [],
   "source": [
    " columnas = ['ac1','ac2','ac3','ac4','ac5','ac6','ac7','ac8','ac9','ac10','ac11','ac12','ac13','ac14','ac15'] columnas = ['ac1','ac2','ac3','ac4','ac5','ac6','ac7','ac8','ac9','ac10','ac11','ac12','ac13','ac14','ac15']# Esta función pasa los valores de ritmo a variables para formar una tabla en formato largo, que \n",
    "# se puede usar con MANOVA.wide de R o con las pruebas de scikitlearning\n",
    "# Toma como valores un data frame y la columna ciyos valores hay que poner en formato largo\n",
    "# P. ej:\n",
    "# A B             A a b\n",
    "# x a     =>      x 2 1\n",
    "# x a             y 0 3  \n",
    "# x b\n",
    "# y b \n",
    "# y b \n",
    "# y b\n",
    "\n",
    "\n",
    "def formatolargo(data, columna, cuenta='Cuenta'):\n",
    "    dflargo = pd.DataFrame()\n",
    "    obras = pd.unique(data['Pieza'])\n",
    "    variables = pd.unique(data[columna])\n",
    "    calderon = lope = mira = 0\n",
    "    for obra in obras:\n",
    "        subconjunto = data[data['Pieza'] == obra]\n",
    "        autor = max(subconjunto['Autor'])\n",
    "        fila = {'Autor': autor, 'Pieza': obra}\n",
    "        for var in variables:\n",
    "            suma = subconjunto[subconjunto[columna] == var]['Cuenta'].sum()\n",
    "            fila.update({var: suma})\n",
    "        dflargo = dflargo.append(fila, ignore_index=True)\n",
    "    return dflargo.convert_dtypes()"
   ]
  },
  {
   "cell_type": "code",
   "execution_count": 7,
   "id": "655f264f",
   "metadata": {},
   "outputs": [],
   "source": [
    "# Recorta valores poco relevantes. Ritmos con 2 o menos ocurrencias van fuera\n",
    "# Toma un data frame y un entero para el mínimo de orcurrencias\n",
    "def recorta(data, minimo):\n",
    "    for valor in data.columns:\n",
    "        #if valor != 'Autor' and valor != 'Pieza':\n",
    "        if data[valor].dtype.kind in 'biufc':\n",
    "            if data[valor].sum() < minimo:\n",
    "                data = data.drop(columns=valor)\n",
    "    return data.convert_dtypes()"
   ]
  },
  {
   "cell_type": "code",
   "execution_count": 8,
   "id": "d440cf35",
   "metadata": {},
   "outputs": [],
   "source": [
    "def frecuencia_minima(data, columna, minimo):\n",
    "    return data.groupby(columna).filter(lambda x : (x[columna].count()>=minimo).any()).convert_dtypes()"
   ]
  },
  {
   "cell_type": "code",
   "execution_count": 9,
   "id": "dd19a857",
   "metadata": {},
   "outputs": [],
   "source": [
    "def borra(data, columna, ritmosx):\n",
    "    #data = data.loc[data['Cuenta'] > 10]\n",
    "    obras = pd.unique(data['Pieza'].values)\n",
    "    ritmosa = pd.unique(data[columna].values)\n",
    "    for ritmo in ritmosa:\n",
    "        if ritmo not in ritmosx:\n",
    "            data = data.loc[a[columna] != ritmo]\n",
    "        else:\n",
    "            for autor in ['Calderón', 'Mira', 'Lope']:\n",
    "                if ritmo not in data.loc[data['Autor'] == autor][columna].values:\n",
    "                    data = data.loc[data[columna] != ritmo]\n",
    "            if len(data[data[columna] == ritmo]) < 20 or data.loc[data[columna] == ritmo]['RelCuenta'].max() < 0.05:\n",
    "                data = data.loc[data[columna] != ritmo]\n",
    "    return data"
   ]
  },
  {
   "cell_type": "code",
   "execution_count": 10,
   "id": "8e3b9f40",
   "metadata": {},
   "outputs": [],
   "source": [
    "def borrar(data, columna, lista = []):\n",
    "    data = data.loc[~data['Autor'].isin(control)]\n",
    "    data = data.loc[~data['Pieza'].str.startswith('z', na=False)]\n",
    "    #data = data.loc[data['Cuenta'] > 10]\n",
    "    obras = pd.unique(data['Pieza'].values)\n",
    "    x = data.loc[data['Autor'].isin(dudosos)]\n",
    "    a = data.loc[~data['Autor'].isin(dudosos)]\n",
    "    if len(lista) == 0:\n",
    "        ritmosx = pd.unique(x[columna].values)\n",
    "        ritmosa = pd.unique(a[columna].values)\n",
    "    else:\n",
    "        return data.loc[data[columna].isin(lista)]\n",
    "    for ritmo in ritmosa:\n",
    "        if ritmo not in ritmosx:\n",
    "            a = a.loc[a[columna] != ritmo]\n",
    "        else:\n",
    "            for autor in ['Calderón', 'Mira', 'Lope']:\n",
    "                if ritmo not in a.loc[a['Autor'] == autor][columna].values:\n",
    "                    a = a.loc[a[columna] != ritmo]\n",
    "            if len(a[a[columna] == ritmo]) < 4 or a.loc[a[columna] == ritmo]['Cuenta'].max() < 4:\n",
    "                a = a.loc[a[columna] != ritmo]\n",
    "    dfritmo = pd.DataFrame()\n",
    "    valores = pd.unique(data[columna])\n",
    "    obras = pd.unique(data['Pieza'])\n",
    "    for obra in obras:\n",
    "        cuentas = {}\n",
    "        autor =  data[data['Pieza'] == obra]['Autor'].value_counts()[:1].index.tolist()[0]\n",
    "        for valor in valores:\n",
    "            fila = {'Pieza': obra, 'Autor': autor}\n",
    "            cuenta = len(data[data['Pieza'] == obra][data[columna] == valor])\n",
    "            fila = {'Pieza': obra, 'Autor': autor, columna: valor, 'Cuenta': cuenta, 'RelCuenta' : cuenta/len(obra)}\n",
    "            if cuenta > 0:           \n",
    "                dfritmo = dfritmo.append(fila, ignore_index=True)\n",
    "    return dfritmo.convert_dtypes()"
   ]
  },
  {
   "cell_type": "code",
   "execution_count": 11,
   "id": "b8dbe1a0",
   "metadata": {},
   "outputs": [],
   "source": [
    "#5. STATISTIC FUNCTIONS"
   ]
  },
  {
   "cell_type": "code",
   "execution_count": 12,
   "id": "494d5692",
   "metadata": {},
   "outputs": [],
   "source": [
    "# Tests de proximidad\n",
    "# Toma un data frame largo,un dataframe con el texto a comprobar,\n",
    "# El tipo de análisis [k]nn, [r]egresión logística, [s]vn \n",
    "# real entre 0.0 y 1.0 para el porcentaje de test vs training set,\n",
    "# entero para la constante de pseudoaleatorización (para poder reproducir el experimento con idénticas condiciones=\n",
    "# \"y\" para sacar gráfico de precisión de k-NN u otro string para sacar el valor numérico\n",
    "# un entero con el número de vecinos para kNN (opcional, usa 3 si no se explicita) \n",
    "def analiza(data, j_test=pd.DataFrame(), analisis='k', test=0.2, alea = 42, plot='rbf', n=3):\n",
    "    X = data.drop('Autor', axis=1).values\n",
    "    y = data['Autor'].values\n",
    "    \n",
    "    from sklearn.model_selection import train_test_split\n",
    "    X_train, X_test, y_train, y_test = train_test_split(X, y, test_size=test, random_state=alea)\n",
    "    #y_train = X_train['Autor'].values\n",
    "    if analisis == 'k':\n",
    "        from sklearn.neighbors import KNeighborsClassifier\n",
    "        neighbors = np.arange(1,12)\n",
    "        train_accuracy =np.empty(len(neighbors))\n",
    "        test_accuracy = np.empty(len(neighbors))\n",
    "    \n",
    "        for i,k in enumerate(neighbors):\n",
    "            #Setup a knn classifier with k neighbors\n",
    "            modelo = KNeighborsClassifier(n_neighbors=k)\n",
    "            #Fit the model\n",
    "            modelo.fit(X_train,y_train)\n",
    "    \n",
    "            #Compute accuracy on the training set\n",
    "            train_accuracy[i] = modelo.score(X_train,y_train)\n",
    "    \n",
    "            #Compute accuracy on the test set\n",
    "            test_accuracy[i] = modelo.score(X_test, y_test)\n",
    "        if plot == 'y':\n",
    "            # Gráfico para calcular la precisión. Según sus resultados, ajustamos\n",
    "            # el número de vecinos a un valor óptimo\n",
    "            plt.rcParams[\"figure.figsize\"] = (10,8)\n",
    "            plt.title('k-NN número de vecinos')\n",
    "            plt.plot(neighbors, test_accuracy, label='Precisión de la prueba')\n",
    "            plt.plot(neighbors, train_accuracy, label='Precisión del entrenamiento')\n",
    "            plt.legend()\n",
    "            plt.xlabel('Número de vecinos')\n",
    "            plt.ylabel('Precisión')\n",
    "            plt.show()\n",
    "        else:\n",
    "            print(test_accuracy)\n",
    "        modelo = KNeighborsClassifier(n_neighbors=n)\n",
    "        modelo.fit(X_train,y_train)\n",
    "    elif analisis == 'r':\n",
    "        from sklearn.preprocessing import StandardScaler\n",
    "        sc = StandardScaler()\n",
    "        X_train = sc.fit_transform(X_train)\n",
    "        X_test = sc.transform(X_test)\n",
    "    \n",
    "        j_test = sc.transform(j_test)\n",
    "        from sklearn.linear_model import LogisticRegression\n",
    "        modelo = LogisticRegression(max_iter=1000,  random_state=alea)\n",
    "        modelo.fit(X_train,y_train)\n",
    "        y_pred = modelo.predict(X_test)\n",
    "    elif analisis == 's':\n",
    "        from sklearn import svm\n",
    "        modelo = svm.SVC(kernel=plot)\n",
    "        modelo.fit(X_train,y_train)\n",
    "    else:\n",
    "        return False\n",
    "\n",
    "    #j_testX = sc.transform(j_testX)\n",
    "\n",
    "    from sklearn.metrics import classification_report\n",
    "    print(f'Score: {modelo.score(X_test,y_test)}')\n",
    "    from sklearn.metrics import confusion_matrix\n",
    "    y_pred = modelo.predict(X_test)\n",
    "    # Lo mismo que el gráfico\n",
    "    #print(confusion_matrix(y_test,y_pred))\n",
    "    # Ditto\n",
    "    #print(classification_report(y_test,y_pred))\n",
    "    print(modelo.predict(j_test))\n",
    "    #print(f'Prueba: {knn.predict(prueba)}')\n",
    "    return modelo"
   ]
  },
  {
   "cell_type": "code",
   "execution_count": 13,
   "id": "c2a157aa",
   "metadata": {},
   "outputs": [],
   "source": [
    "# Si hay muchas variables, buscarlas y meterlas a mano para la fórmula de los tests de varianza\n",
    "# es muy farragoso. Esta función automatiza el trabajo. Acepta como parámetros el data frame en \n",
    "# formato alto equivalente al largo y la columna con las variables\n",
    "def creaformula(columna, data):\n",
    "    variables = []\n",
    "    lista = pd.unique(data[columna])\n",
    "    for idx, elemento in enumerate(lista):\n",
    "        if idx == 0:\n",
    "            formula = f'{elemento} ~ Autor'\n",
    "        else:\n",
    "            formula = f'{elemento} + {formula}'\n",
    "        variables += [elemento]\n",
    "    return formula"
   ]
  },
  {
   "cell_type": "code",
   "execution_count": 14,
   "id": "3e3bdd3d",
   "metadata": {},
   "outputs": [],
   "source": [
    "#6. AQUÍ EMPIEZA EL PROGRAMA"
   ]
  },
  {
   "cell_type": "code",
   "execution_count": 34,
   "id": "a428ab97",
   "metadata": {},
   "outputs": [
    {
     "data": {
      "text/html": [
       "<div>\n",
       "<style scoped>\n",
       "    .dataframe tbody tr th:only-of-type {\n",
       "        vertical-align: middle;\n",
       "    }\n",
       "\n",
       "    .dataframe tbody tr th {\n",
       "        vertical-align: top;\n",
       "    }\n",
       "\n",
       "    .dataframe thead th {\n",
       "        text-align: right;\n",
       "    }\n",
       "</style>\n",
       "<table border=\"1\" class=\"dataframe\">\n",
       "  <thead>\n",
       "    <tr style=\"text-align: right;\">\n",
       "      <th></th>\n",
       "      <th>Author</th>\n",
       "      <th>Title</th>\n",
       "      <th>Genre</th>\n",
       "      <th>Subgenre</th>\n",
       "      <th>Act</th>\n",
       "      <th>Speech</th>\n",
       "      <th>Verse</th>\n",
       "      <th>Character</th>\n",
       "      <th>Type</th>\n",
       "      <th>Gender</th>\n",
       "      <th>Text</th>\n",
       "      <th>Syllables</th>\n",
       "      <th>Ambiguous</th>\n",
       "      <th>Nuclei</th>\n",
       "      <th>Assonance</th>\n",
       "      <th>Consonance</th>\n",
       "      <th>Rhyhtm</th>\n",
       "    </tr>\n",
       "  </thead>\n",
       "  <tbody>\n",
       "    <tr>\n",
       "      <th>0</th>\n",
       "      <td>Lope</td>\n",
       "      <td>Auto del pan y el palo</td>\n",
       "      <td>Auto sacramental</td>\n",
       "      <td>ø</td>\n",
       "      <td>0</td>\n",
       "      <td>1</td>\n",
       "      <td>1</td>\n",
       "      <td>BUEN AÑO</td>\n",
       "      <td>NaN</td>\n",
       "      <td>M</td>\n",
       "      <td>Espérate, Regocijo,</td>\n",
       "      <td>8</td>\n",
       "      <td>0</td>\n",
       "      <td>eEaeeoIo</td>\n",
       "      <td>io</td>\n",
       "      <td>θixo</td>\n",
       "      <td>-+----+-</td>\n",
       "    </tr>\n",
       "    <tr>\n",
       "      <th>1</th>\n",
       "      <td>Lope</td>\n",
       "      <td>Auto del pan y el palo</td>\n",
       "      <td>Auto sacramental</td>\n",
       "      <td>ø</td>\n",
       "      <td>0</td>\n",
       "      <td>1</td>\n",
       "      <td>2</td>\n",
       "      <td>BUEN AÑO</td>\n",
       "      <td>NaN</td>\n",
       "      <td>M</td>\n",
       "      <td>que el viento en las plantas llevas.</td>\n",
       "      <td>8</td>\n",
       "      <td>0</td>\n",
       "      <td>eEeaAaEa</td>\n",
       "      <td>ea</td>\n",
       "      <td>ʎebas</td>\n",
       "      <td>-+--+-+-</td>\n",
       "    </tr>\n",
       "    <tr>\n",
       "      <th>2</th>\n",
       "      <td>Lope</td>\n",
       "      <td>Auto del pan y el palo</td>\n",
       "      <td>Auto sacramental</td>\n",
       "      <td>ø</td>\n",
       "      <td>0</td>\n",
       "      <td>2</td>\n",
       "      <td>3</td>\n",
       "      <td>REGOCIJO</td>\n",
       "      <td>NaN</td>\n",
       "      <td>M</td>\n",
       "      <td>Engéndranme buenas nuevas</td>\n",
       "      <td>8</td>\n",
       "      <td>0</td>\n",
       "      <td>eEaeEaEa</td>\n",
       "      <td>ea</td>\n",
       "      <td>nwebas</td>\n",
       "      <td>-+--+-+-</td>\n",
       "    </tr>\n",
       "    <tr>\n",
       "      <th>3</th>\n",
       "      <td>Lope</td>\n",
       "      <td>Auto del pan y el palo</td>\n",
       "      <td>Auto sacramental</td>\n",
       "      <td>ø</td>\n",
       "      <td>0</td>\n",
       "      <td>2</td>\n",
       "      <td>4</td>\n",
       "      <td>REGOCIJO</td>\n",
       "      <td>NaN</td>\n",
       "      <td>M</td>\n",
       "      <td>si sabes que soy su hijo.</td>\n",
       "      <td>8</td>\n",
       "      <td>0</td>\n",
       "      <td>iAeeOuIo</td>\n",
       "      <td>io</td>\n",
       "      <td>ixo</td>\n",
       "      <td>-+--+-+-</td>\n",
       "    </tr>\n",
       "    <tr>\n",
       "      <th>4</th>\n",
       "      <td>Lope</td>\n",
       "      <td>Auto del pan y el palo</td>\n",
       "      <td>Auto sacramental</td>\n",
       "      <td>ø</td>\n",
       "      <td>0</td>\n",
       "      <td>2</td>\n",
       "      <td>5</td>\n",
       "      <td>REGOCIJO</td>\n",
       "      <td>NaN</td>\n",
       "      <td>M</td>\n",
       "      <td>¿Qué me mandas esperar?</td>\n",
       "      <td>8</td>\n",
       "      <td>0</td>\n",
       "      <td>EeAaeeA</td>\n",
       "      <td>a</td>\n",
       "      <td>ɾaɾ</td>\n",
       "      <td>+-+---+</td>\n",
       "    </tr>\n",
       "  </tbody>\n",
       "</table>\n",
       "</div>"
      ],
      "text/plain": [
       "  Author                   Title             Genre Subgenre  Act  Speech  \\\n",
       "0   Lope  Auto del pan y el palo  Auto sacramental        ø    0       1   \n",
       "1   Lope  Auto del pan y el palo  Auto sacramental        ø    0       1   \n",
       "2   Lope  Auto del pan y el palo  Auto sacramental        ø    0       2   \n",
       "3   Lope  Auto del pan y el palo  Auto sacramental        ø    0       2   \n",
       "4   Lope  Auto del pan y el palo  Auto sacramental        ø    0       2   \n",
       "\n",
       "   Verse Character  Type Gender                                  Text  \\\n",
       "0      1  BUEN AÑO   NaN      M                   Espérate, Regocijo,   \n",
       "1      2  BUEN AÑO   NaN      M  que el viento en las plantas llevas.   \n",
       "2      3  REGOCIJO   NaN      M             Engéndranme buenas nuevas   \n",
       "3      4  REGOCIJO   NaN      M             si sabes que soy su hijo.   \n",
       "4      5  REGOCIJO   NaN      M               ¿Qué me mandas esperar?   \n",
       "\n",
       "   Syllables  Ambiguous    Nuclei Assonance Consonance    Rhyhtm  \n",
       "0          8          0  eEaeeoIo        io       θixo  -+----+-  \n",
       "1          8          0  eEeaAaEa        ea      ʎebas  -+--+-+-  \n",
       "2          8          0  eEaeEaEa        ea     nwebas  -+--+-+-  \n",
       "3          8          0  iAeeOuIo        io        ixo  -+--+-+-  \n",
       "4          8          0   EeAaeeA         a        ɾaɾ   +-+---+  "
      ]
     },
     "execution_count": 34,
     "metadata": {},
     "output_type": "execute_result"
    }
   ],
   "source": [
    "# Load input file\n",
    "entrada = 'data.csv'\n",
    "df = pd.read_csv(entrada)\n",
    "df.head()"
   ]
  },
  {
   "cell_type": "code",
   "execution_count": 35,
   "id": "275c5aca",
   "metadata": {},
   "outputs": [
    {
     "name": "stdout",
     "output_type": "stream",
     "text": [
      "['Lope' 'Mira' 'Calderón' 'X']\n"
     ]
    }
   ],
   "source": [
    "# Show authors\n",
    "authors = df['Author'].unique()\n",
    "print(authors)"
   ]
  },
  {
   "cell_type": "code",
   "execution_count": 36,
   "id": "57416e87",
   "metadata": {},
   "outputs": [
    {
     "name": "stdout",
     "output_type": "stream",
     "text": [
      "['Auto del pan y el palo' 'El heredero' 'El hijo pródigo'\n",
      " 'El jardín de Falerina' 'El laberinto del mundo' 'El misacantano'\n",
      " 'El niño pastor' 'El pintor de su deshonra' 'El sacro Pernaso'\n",
      " 'El viaje del alma' 'La guarda cuidadosa' 'La inquisición' 'La maya'\n",
      " 'La mayor soberbia humana de Nabucodonosor' 'La santa Margarita'\n",
      " 'Las bodas entre el Alma y el Amor Divino' 'Los acreedores del hombre'\n",
      " 'Pedro Telonario' 'Primero y segundo Isaac' 'La hidalga del valle']\n"
     ]
    }
   ],
   "source": [
    "# Show titles\n",
    "titles = df['Title'].unique()\n",
    "print(titles)"
   ]
  },
  {
   "cell_type": "code",
   "execution_count": 37,
   "id": "65bac289",
   "metadata": {},
   "outputs": [],
   "source": [
    "# Por comodidad, creo variables para usarlas luego\n",
    "all_authors = ['Calderón', 'Lope', 'Mira', 'X']\n",
    "candidates = ['Calderón', 'Lope', 'Mira']\n",
    "disputed = 'X'"
   ]
  },
  {
   "cell_type": "code",
   "execution_count": 38,
   "id": "f91497e6",
   "metadata": {},
   "outputs": [],
   "source": [
    "# Recorto solo lo que me interesa. Autores A, B, C y X. \n",
    "df = df.loc[df['Syllables'] == 8]"
   ]
  },
  {
   "cell_type": "code",
   "execution_count": 28,
   "id": "d0dcbdf8",
   "metadata": {},
   "outputs": [],
   "source": [
    "# Tomo tres muestras de cada uno\n",
    "df = corrigetabla(df)\n",
    "candidatosdf = samples(df, candidates, 5)\n",
    "\n",
    "# df con el dudoso\n",
    "dudosodf = df.loc[df['Autor'] == disputed]\n",
    "\n",
    "# Junto los dataframes\n",
    "\n",
    "df = candidatosdf.append(dudosodf, ignore_index=True)"
   ]
  },
  {
   "cell_type": "code",
   "execution_count": 31,
   "id": "e8f7bf1a",
   "metadata": {},
   "outputs": [],
   "source": [
    "# Elimino ritmos que aparezcan en total menos de 500 veces (He cogido un valor alto para los gráficos del ejemplo,\n",
    "# en realidad, creo que debería sera alrededor de 100)\n",
    "df = frecuencia_minima(df, 'Ritmo',  50)\n",
    "\n",
    "dudosodf = df.loc[df['Autor'] == dudoso]\n",
    "candidatosdf = df.loc[df['Autor'] != dudoso]"
   ]
  },
  {
   "cell_type": "code",
   "execution_count": 32,
   "id": "4ddd4323",
   "metadata": {},
   "outputs": [
    {
     "ename": "ValueError",
     "evalue": "No objects to concatenate",
     "output_type": "error",
     "traceback": [
      "\u001b[0;31m---------------------------------------------------------------------------\u001b[0m",
      "\u001b[0;31mValueError\u001b[0m                                Traceback (most recent call last)",
      "\u001b[0;32m<ipython-input-32-e0534eeb0aee>\u001b[0m in \u001b[0;36m<module>\u001b[0;34m\u001b[0m\n\u001b[1;32m      1\u001b[0m \u001b[0;31m# Conteo de ritmos\u001b[0m\u001b[0;34m\u001b[0m\u001b[0;34m\u001b[0m\u001b[0;34m\u001b[0m\u001b[0m\n\u001b[0;32m----> 2\u001b[0;31m \u001b[0mdfcuenta\u001b[0m \u001b[0;34m=\u001b[0m \u001b[0mrecuento\u001b[0m\u001b[0;34m(\u001b[0m\u001b[0mdf\u001b[0m\u001b[0;34m,\u001b[0m \u001b[0;34m'Ritmo'\u001b[0m\u001b[0;34m)\u001b[0m\u001b[0;34m\u001b[0m\u001b[0;34m\u001b[0m\u001b[0m\n\u001b[0m",
      "\u001b[0;32m<ipython-input-10-eed394d90924>\u001b[0m in \u001b[0;36mrecuento\u001b[0;34m(data, columna)\u001b[0m\n\u001b[1;32m     17\u001b[0m             \u001b[0;32mif\u001b[0m \u001b[0mcuenta\u001b[0m \u001b[0;34m>\u001b[0m \u001b[0;36m0\u001b[0m\u001b[0;34m:\u001b[0m\u001b[0;34m\u001b[0m\u001b[0;34m\u001b[0m\u001b[0m\n\u001b[1;32m     18\u001b[0m                 \u001b[0mdfritmo\u001b[0m \u001b[0;34m=\u001b[0m \u001b[0mdfritmo\u001b[0m\u001b[0;34m.\u001b[0m\u001b[0mappend\u001b[0m\u001b[0;34m(\u001b[0m\u001b[0mfila\u001b[0m\u001b[0;34m,\u001b[0m \u001b[0mignore_index\u001b[0m\u001b[0;34m=\u001b[0m\u001b[0;32mTrue\u001b[0m\u001b[0;34m)\u001b[0m\u001b[0;34m\u001b[0m\u001b[0;34m\u001b[0m\u001b[0m\n\u001b[0;32m---> 19\u001b[0;31m     \u001b[0;32mreturn\u001b[0m \u001b[0mdfritmo\u001b[0m\u001b[0;34m.\u001b[0m\u001b[0mconvert_dtypes\u001b[0m\u001b[0;34m(\u001b[0m\u001b[0;34m)\u001b[0m\u001b[0;34m\u001b[0m\u001b[0;34m\u001b[0m\u001b[0m\n\u001b[0m",
      "\u001b[0;32m/usr/local/lib/python3.9/dist-packages/pandas/core/generic.py\u001b[0m in \u001b[0;36mconvert_dtypes\u001b[0;34m(self, infer_objects, convert_string, convert_integer, convert_boolean)\u001b[0m\n\u001b[1;32m   5899\u001b[0m                 \u001b[0;32mfor\u001b[0m \u001b[0mcol_name\u001b[0m\u001b[0;34m,\u001b[0m \u001b[0mcol\u001b[0m \u001b[0;32min\u001b[0m \u001b[0mself\u001b[0m\u001b[0;34m.\u001b[0m\u001b[0mitems\u001b[0m\u001b[0;34m(\u001b[0m\u001b[0;34m)\u001b[0m\u001b[0;34m\u001b[0m\u001b[0;34m\u001b[0m\u001b[0m\n\u001b[1;32m   5900\u001b[0m             ]\n\u001b[0;32m-> 5901\u001b[0;31m             \u001b[0mresult\u001b[0m \u001b[0;34m=\u001b[0m \u001b[0mpd\u001b[0m\u001b[0;34m.\u001b[0m\u001b[0mconcat\u001b[0m\u001b[0;34m(\u001b[0m\u001b[0mresults\u001b[0m\u001b[0;34m,\u001b[0m \u001b[0maxis\u001b[0m\u001b[0;34m=\u001b[0m\u001b[0;36m1\u001b[0m\u001b[0;34m,\u001b[0m \u001b[0mcopy\u001b[0m\u001b[0;34m=\u001b[0m\u001b[0;32mFalse\u001b[0m\u001b[0;34m)\u001b[0m\u001b[0;34m\u001b[0m\u001b[0;34m\u001b[0m\u001b[0m\n\u001b[0m\u001b[1;32m   5902\u001b[0m             \u001b[0;32mreturn\u001b[0m \u001b[0mresult\u001b[0m\u001b[0;34m\u001b[0m\u001b[0;34m\u001b[0m\u001b[0m\n\u001b[1;32m   5903\u001b[0m \u001b[0;34m\u001b[0m\u001b[0m\n",
      "\u001b[0;32m/usr/local/lib/python3.9/dist-packages/pandas/core/reshape/concat.py\u001b[0m in \u001b[0;36mconcat\u001b[0;34m(objs, axis, join, ignore_index, keys, levels, names, verify_integrity, sort, copy)\u001b[0m\n\u001b[1;32m    272\u001b[0m     \u001b[0mValueError\u001b[0m\u001b[0;34m:\u001b[0m \u001b[0mIndexes\u001b[0m \u001b[0mhave\u001b[0m \u001b[0moverlapping\u001b[0m \u001b[0mvalues\u001b[0m\u001b[0;34m:\u001b[0m \u001b[0;34m[\u001b[0m\u001b[0;34m'a'\u001b[0m\u001b[0;34m]\u001b[0m\u001b[0;34m\u001b[0m\u001b[0;34m\u001b[0m\u001b[0m\n\u001b[1;32m    273\u001b[0m     \"\"\"\n\u001b[0;32m--> 274\u001b[0;31m     op = _Concatenator(\n\u001b[0m\u001b[1;32m    275\u001b[0m         \u001b[0mobjs\u001b[0m\u001b[0;34m,\u001b[0m\u001b[0;34m\u001b[0m\u001b[0;34m\u001b[0m\u001b[0m\n\u001b[1;32m    276\u001b[0m         \u001b[0maxis\u001b[0m\u001b[0;34m=\u001b[0m\u001b[0maxis\u001b[0m\u001b[0;34m,\u001b[0m\u001b[0;34m\u001b[0m\u001b[0;34m\u001b[0m\u001b[0m\n",
      "\u001b[0;32m/usr/local/lib/python3.9/dist-packages/pandas/core/reshape/concat.py\u001b[0m in \u001b[0;36m__init__\u001b[0;34m(self, objs, axis, join, keys, levels, names, ignore_index, verify_integrity, copy, sort)\u001b[0m\n\u001b[1;32m    329\u001b[0m \u001b[0;34m\u001b[0m\u001b[0m\n\u001b[1;32m    330\u001b[0m         \u001b[0;32mif\u001b[0m \u001b[0mlen\u001b[0m\u001b[0;34m(\u001b[0m\u001b[0mobjs\u001b[0m\u001b[0;34m)\u001b[0m \u001b[0;34m==\u001b[0m \u001b[0;36m0\u001b[0m\u001b[0;34m:\u001b[0m\u001b[0;34m\u001b[0m\u001b[0;34m\u001b[0m\u001b[0m\n\u001b[0;32m--> 331\u001b[0;31m             \u001b[0;32mraise\u001b[0m \u001b[0mValueError\u001b[0m\u001b[0;34m(\u001b[0m\u001b[0;34m\"No objects to concatenate\"\u001b[0m\u001b[0;34m)\u001b[0m\u001b[0;34m\u001b[0m\u001b[0;34m\u001b[0m\u001b[0m\n\u001b[0m\u001b[1;32m    332\u001b[0m \u001b[0;34m\u001b[0m\u001b[0m\n\u001b[1;32m    333\u001b[0m         \u001b[0;32mif\u001b[0m \u001b[0mkeys\u001b[0m \u001b[0;32mis\u001b[0m \u001b[0;32mNone\u001b[0m\u001b[0;34m:\u001b[0m\u001b[0;34m\u001b[0m\u001b[0;34m\u001b[0m\u001b[0m\n",
      "\u001b[0;31mValueError\u001b[0m: No objects to concatenate"
     ]
    }
   ],
   "source": [
    "# Conteo de ritmos\n",
    "dfcuenta = recuento(df, 'Ritmo')"
   ]
  },
  {
   "cell_type": "code",
   "execution_count": 33,
   "id": "8632c91c",
   "metadata": {},
   "outputs": [
    {
     "data": {
      "text/plain": [
       "(array([0. , 0.2, 0.4, 0.6, 0.8, 1. ]),\n",
       " [Text(0, 0, ''),\n",
       "  Text(0, 0, ''),\n",
       "  Text(0, 0, ''),\n",
       "  Text(0, 0, ''),\n",
       "  Text(0, 0, ''),\n",
       "  Text(0, 0, '')])"
      ]
     },
     "execution_count": 33,
     "metadata": {},
     "output_type": "execute_result"
    },
    {
     "data": {
      "image/png": "[encoded data removed]",
      "text/plain": [
       "<Figure size 1152x576 with 1 Axes>"
      ]
     },
     "metadata": {
      "needs_background": "light"
     },
     "output_type": "display_data"
    }
   ],
   "source": [
    "# Histograma\n",
    "# Este gráfico no tiene sentido para asignación de autoría, pero sí para comparar entre autores si comparamos\n",
    "# textos del mismo tipo, o sea, comedias con comedias o autos con autos.\n",
    "#paleta = {\"Calderón\": \"b\", \"Lope\": \"green\", \"Rojas\":\"orange\"}\n",
    "plt.figure(figsize=(16,8))\n",
    "plot = sns.histplot(x='Ritmo', hue='Autor', data=candidatosdf, multiple=\"stack\") #, palette=paleta,multiple='stack'\n",
    "plt.xticks(rotation=45)"
   ]
  },
  {
   "cell_type": "code",
   "execution_count": 34,
   "id": "450e4359",
   "metadata": {},
   "outputs": [
    {
     "ename": "NameError",
     "evalue": "name 'dfcuenta' is not defined",
     "output_type": "error",
     "traceback": [
      "\u001b[0;31m---------------------------------------------------------------------------\u001b[0m",
      "\u001b[0;31mNameError\u001b[0m                                 Traceback (most recent call last)",
      "\u001b[0;32m<ipython-input-34-123ac5ff981f>\u001b[0m in \u001b[0;36m<module>\u001b[0;34m\u001b[0m\n\u001b[1;32m      3\u001b[0m \u001b[0;31m# o ... Uso RelCuenta (versos/total) en lugar de cuenta porque en el ejemplo hay comedias y autos mezclados\u001b[0m\u001b[0;34m\u001b[0m\u001b[0;34m\u001b[0m\u001b[0;34m\u001b[0m\u001b[0m\n\u001b[1;32m      4\u001b[0m \u001b[0mplt\u001b[0m\u001b[0;34m.\u001b[0m\u001b[0mfigure\u001b[0m\u001b[0;34m(\u001b[0m\u001b[0mfigsize\u001b[0m\u001b[0;34m=\u001b[0m\u001b[0;34m(\u001b[0m\u001b[0;36m16\u001b[0m\u001b[0;34m,\u001b[0m\u001b[0;36m8\u001b[0m\u001b[0;34m)\u001b[0m\u001b[0;34m)\u001b[0m\u001b[0;34m\u001b[0m\u001b[0;34m\u001b[0m\u001b[0m\n\u001b[0;32m----> 5\u001b[0;31m \u001b[0mplot\u001b[0m \u001b[0;34m=\u001b[0m \u001b[0msns\u001b[0m\u001b[0;34m.\u001b[0m\u001b[0mboxplot\u001b[0m\u001b[0;34m(\u001b[0m\u001b[0mx\u001b[0m\u001b[0;34m=\u001b[0m\u001b[0;34m'Ritmo'\u001b[0m\u001b[0;34m,\u001b[0m \u001b[0my\u001b[0m\u001b[0;34m=\u001b[0m\u001b[0;34m'Cuenta'\u001b[0m\u001b[0;34m,\u001b[0m \u001b[0mhue\u001b[0m\u001b[0;34m=\u001b[0m\u001b[0;34m'Autor'\u001b[0m\u001b[0;34m,\u001b[0m \u001b[0mdata\u001b[0m\u001b[0;34m=\u001b[0m\u001b[0mdfcuenta\u001b[0m\u001b[0;34m,\u001b[0m \u001b[0mmedianprops\u001b[0m\u001b[0;34m=\u001b[0m\u001b[0mdict\u001b[0m\u001b[0;34m(\u001b[0m\u001b[0mcolor\u001b[0m\u001b[0;34m=\u001b[0m\u001b[0;34m\"white\"\u001b[0m\u001b[0;34m,\u001b[0m \u001b[0malpha\u001b[0m\u001b[0;34m=\u001b[0m\u001b[0;36m0.7\u001b[0m\u001b[0;34m)\u001b[0m\u001b[0;34m)\u001b[0m\u001b[0;34m\u001b[0m\u001b[0;34m\u001b[0m\u001b[0m\n\u001b[0m\u001b[1;32m      6\u001b[0m \u001b[0mplt\u001b[0m\u001b[0;34m.\u001b[0m\u001b[0mxticks\u001b[0m\u001b[0;34m(\u001b[0m\u001b[0mrotation\u001b[0m\u001b[0;34m=\u001b[0m\u001b[0;36m45\u001b[0m\u001b[0;34m)\u001b[0m\u001b[0;34m\u001b[0m\u001b[0;34m\u001b[0m\u001b[0m\n",
      "\u001b[0;31mNameError\u001b[0m: name 'dfcuenta' is not defined"
     ]
    },
    {
     "data": {
      "text/plain": [
       "<Figure size 1152x576 with 0 Axes>"
      ]
     },
     "metadata": {},
     "output_type": "display_data"
    }
   ],
   "source": [
    "# Varianza (cajas)\n",
    "# Este es multiusos. Podemos comparar entre autores, o ver dónde se ubica un texto dudoso, o comparar entre géneros\n",
    "# o ... Uso RelCuenta (versos/total) en lugar de cuenta porque en el ejemplo hay comedias y autos mezclados\n",
    "plt.figure(figsize=(16,8))\n",
    "plot = sns.boxplot(x='Ritmo', y='Cuenta', hue='Autor', data=dfcuenta, medianprops=dict(color=\"white\", alpha=0.7))\n",
    "plt.xticks(rotation=45)"
   ]
  },
  {
   "cell_type": "code",
   "execution_count": 35,
   "id": "71eef4c8",
   "metadata": {},
   "outputs": [
    {
     "ename": "NameError",
     "evalue": "name 'dfcuenta' is not defined",
     "output_type": "error",
     "traceback": [
      "\u001b[0;31m---------------------------------------------------------------------------\u001b[0m",
      "\u001b[0;31mNameError\u001b[0m                                 Traceback (most recent call last)",
      "\u001b[0;32m<ipython-input-35-026670227421>\u001b[0m in \u001b[0;36m<module>\u001b[0;34m\u001b[0m\n\u001b[1;32m      1\u001b[0m \u001b[0;31m# Creo una tabla en formato largo con el ritmo\u001b[0m\u001b[0;34m\u001b[0m\u001b[0;34m\u001b[0m\u001b[0;34m\u001b[0m\u001b[0m\n\u001b[0;32m----> 2\u001b[0;31m \u001b[0mdflargo\u001b[0m \u001b[0;34m=\u001b[0m \u001b[0mformatolargo\u001b[0m\u001b[0;34m(\u001b[0m\u001b[0mdfcuenta\u001b[0m\u001b[0;34m,\u001b[0m \u001b[0;34m'Ritmo'\u001b[0m\u001b[0;34m,\u001b[0m \u001b[0;34m'Cuenta'\u001b[0m\u001b[0;34m)\u001b[0m\u001b[0;34m\u001b[0m\u001b[0;34m\u001b[0m\u001b[0m\n\u001b[0m",
      "\u001b[0;31mNameError\u001b[0m: name 'dfcuenta' is not defined"
     ]
    }
   ],
   "source": [
    "# Creo una tabla en formato largo con el ritmo\n",
    "dflargo = formatolargo(dfcuenta, 'Ritmo', 'Cuenta')"
   ]
  },
  {
   "cell_type": "code",
   "execution_count": 36,
   "id": "636be126",
   "metadata": {},
   "outputs": [
    {
     "ename": "NameError",
     "evalue": "name 'dflargo' is not defined",
     "output_type": "error",
     "traceback": [
      "\u001b[0;31m---------------------------------------------------------------------------\u001b[0m",
      "\u001b[0;31mNameError\u001b[0m                                 Traceback (most recent call last)",
      "\u001b[0;32m<ipython-input-36-001086d04602>\u001b[0m in \u001b[0;36m<module>\u001b[0;34m\u001b[0m\n\u001b[1;32m      1\u001b[0m \u001b[0;31m# Scatterplot (puntos)\u001b[0m\u001b[0;34m\u001b[0m\u001b[0;34m\u001b[0m\u001b[0;34m\u001b[0m\u001b[0m\n\u001b[0;32m----> 2\u001b[0;31m \u001b[0mplot\u001b[0m \u001b[0;34m=\u001b[0m \u001b[0msns\u001b[0m\u001b[0;34m.\u001b[0m\u001b[0mscatterplot\u001b[0m\u001b[0;34m(\u001b[0m\u001b[0mdata\u001b[0m\u001b[0;34m=\u001b[0m\u001b[0mdflargo\u001b[0m\u001b[0;34m,\u001b[0m \u001b[0mx\u001b[0m\u001b[0;34m=\u001b[0m\u001b[0;34m\"oXoXooXo\"\u001b[0m\u001b[0;34m,\u001b[0m \u001b[0my\u001b[0m\u001b[0;34m=\u001b[0m\u001b[0;34m\"ooXoooXo\"\u001b[0m\u001b[0;34m,\u001b[0m \u001b[0mhue\u001b[0m\u001b[0;34m=\u001b[0m\u001b[0;34m\"Autor\"\u001b[0m\u001b[0;34m)\u001b[0m\u001b[0;34m\u001b[0m\u001b[0;34m\u001b[0m\u001b[0m\n\u001b[0m\u001b[1;32m      3\u001b[0m \u001b[0mplt\u001b[0m\u001b[0;34m.\u001b[0m\u001b[0mxticks\u001b[0m\u001b[0;34m(\u001b[0m\u001b[0mrotation\u001b[0m\u001b[0;34m=\u001b[0m\u001b[0;36m45\u001b[0m\u001b[0;34m)\u001b[0m\u001b[0;34m\u001b[0m\u001b[0;34m\u001b[0m\u001b[0m\n",
      "\u001b[0;31mNameError\u001b[0m: name 'dflargo' is not defined"
     ]
    }
   ],
   "source": [
    "# Scatterplot (puntos)\n",
    "plot = sns.scatterplot(data=dflargo, x=\"oXoXooXo\", y=\"ooXoooXo\", hue=\"Autor\")\n",
    "plt.xticks(rotation=45)"
   ]
  },
  {
   "cell_type": "code",
   "execution_count": 37,
   "id": "08f798d7",
   "metadata": {},
   "outputs": [
    {
     "ename": "NameError",
     "evalue": "name 'dflargo' is not defined",
     "output_type": "error",
     "traceback": [
      "\u001b[0;31m---------------------------------------------------------------------------\u001b[0m",
      "\u001b[0;31mNameError\u001b[0m                                 Traceback (most recent call last)",
      "\u001b[0;32m<ipython-input-37-8301b3082eaa>\u001b[0m in \u001b[0;36m<module>\u001b[0;34m\u001b[0m\n\u001b[1;32m      9\u001b[0m \u001b[0mkn\u001b[0m \u001b[0;34m=\u001b[0m \u001b[0;36m3\u001b[0m\u001b[0;34m\u001b[0m\u001b[0;34m\u001b[0m\u001b[0m\n\u001b[1;32m     10\u001b[0m \u001b[0;31m# Dejo solo las columnas requeridas\u001b[0m\u001b[0;34m\u001b[0m\u001b[0;34m\u001b[0m\u001b[0;34m\u001b[0m\u001b[0m\n\u001b[0;32m---> 11\u001b[0;31m \u001b[0mdata\u001b[0m \u001b[0;34m=\u001b[0m \u001b[0mdflargo\u001b[0m\u001b[0;34m.\u001b[0m\u001b[0mdrop\u001b[0m\u001b[0;34m(\u001b[0m\u001b[0;34m'Pieza'\u001b[0m\u001b[0;34m,\u001b[0m \u001b[0maxis\u001b[0m\u001b[0;34m=\u001b[0m\u001b[0;36m1\u001b[0m\u001b[0;34m)\u001b[0m\u001b[0;34m\u001b[0m\u001b[0;34m\u001b[0m\u001b[0m\n\u001b[0m\u001b[1;32m     12\u001b[0m \u001b[0mautores\u001b[0m \u001b[0;34m=\u001b[0m \u001b[0mcandidatos\u001b[0m\u001b[0;34m\u001b[0m\u001b[0;34m\u001b[0m\u001b[0m\n\u001b[1;32m     13\u001b[0m \u001b[0;34m\u001b[0m\u001b[0m\n",
      "\u001b[0;31mNameError\u001b[0m: name 'dflargo' is not defined"
     ]
    }
   ],
   "source": [
    "# Regresión logística, k-NN y SVN\n",
    "# Ajusto los parámetros (Porcentaje del corpus para test)\n",
    "testr = 0.01\n",
    "testk = 0.2\n",
    "tests = 0.01\n",
    "# Factor de aleatorización, para poder repetir el experimento en las mismas condiciones\n",
    "alea = 42\n",
    "# Número de vecinos\n",
    "kn = 3\n",
    "# Dejo solo las columnas requeridas\n",
    "data = dflargo.drop('Pieza', axis=1)\n",
    "autores = candidatos\n",
    "\n",
    "for autor in  ['DISPUTADO']:\n",
    "#def analiza(tabla, j_test=pd.DataFrame(), test=0.2, alea = 42, plot='n', analisis='k',  n=12):\n",
    "    print(f'\\n\\n\\n******************************************\\n\\nObra:\\t{autor}: {dflargo.loc[dflargo[\"Autor\"] == autor][\"Pieza\"].max()}\\n')\n",
    "    entrenamiento = data.loc[data['Autor'].isin(candidatos)]\n",
    "    para_comprobar = data.loc[data['Autor'] == autor].drop('Autor', axis=1).values\n",
    "    \n",
    "    print('Regresión')\n",
    "    analiza(entrenamiento, para_comprobar, 'r', testr, alea,'n', 3)\n",
    "  \n",
    "    print('\\n-------------------------------------------------------\\n\\nSVN')\n",
    "    #testY = dfreglargo[dfreglargo['Autor'] == autor].drop('Autor', axis=1).values\n",
    "    analiza(entrenamiento, para_comprobar,  's', tests, alea, 'rbf')\n",
    "    \n",
    "    print('\\n-------------------------------------------------------\\n\\nKnn:\\n')\n",
    "    analiza(entrenamiento, para_comprobar,  'k', testk, alea, 'y', kn)"
   ]
  },
  {
   "cell_type": "code",
   "execution_count": 38,
   "id": "0bad9df7",
   "metadata": {},
   "outputs": [
    {
     "ename": "UnboundLocalError",
     "evalue": "local variable 'formula' referenced before assignment",
     "output_type": "error",
     "traceback": [
      "\u001b[0;31m---------------------------------------------------------------------------\u001b[0m",
      "\u001b[0;31mUnboundLocalError\u001b[0m                         Traceback (most recent call last)",
      "\u001b[0;32m<ipython-input-38-4257263b7e8e>\u001b[0m in \u001b[0;36m<module>\u001b[0;34m\u001b[0m\n\u001b[0;32m----> 1\u001b[0;31m \u001b[0mformula\u001b[0m \u001b[0;34m=\u001b[0m \u001b[0mcreaformula\u001b[0m\u001b[0;34m(\u001b[0m\u001b[0;34m'Ritmo'\u001b[0m\u001b[0;34m,\u001b[0m \u001b[0mdf\u001b[0m\u001b[0;34m[\u001b[0m\u001b[0mdf\u001b[0m\u001b[0;34m[\u001b[0m\u001b[0;34m'Autor'\u001b[0m\u001b[0;34m]\u001b[0m\u001b[0;34m.\u001b[0m\u001b[0misin\u001b[0m\u001b[0;34m(\u001b[0m\u001b[0mcandidatos\u001b[0m\u001b[0;34m)\u001b[0m\u001b[0;34m]\u001b[0m\u001b[0;34m)\u001b[0m\u001b[0;34m\u001b[0m\u001b[0;34m\u001b[0m\u001b[0m\n\u001b[0m",
      "\u001b[0;32m<ipython-input-18-0305092ce80e>\u001b[0m in \u001b[0;36mcreaformula\u001b[0;34m(columna, data)\u001b[0m\n\u001b[1;32m     11\u001b[0m             \u001b[0mformula\u001b[0m \u001b[0;34m=\u001b[0m \u001b[0;34mf'{elemento} + {formula}'\u001b[0m\u001b[0;34m\u001b[0m\u001b[0;34m\u001b[0m\u001b[0m\n\u001b[1;32m     12\u001b[0m         \u001b[0mvariables\u001b[0m \u001b[0;34m+=\u001b[0m \u001b[0;34m[\u001b[0m\u001b[0melemento\u001b[0m\u001b[0;34m]\u001b[0m\u001b[0;34m\u001b[0m\u001b[0;34m\u001b[0m\u001b[0m\n\u001b[0;32m---> 13\u001b[0;31m     \u001b[0;32mreturn\u001b[0m \u001b[0mformula\u001b[0m\u001b[0;34m\u001b[0m\u001b[0;34m\u001b[0m\u001b[0m\n\u001b[0m",
      "\u001b[0;31mUnboundLocalError\u001b[0m: local variable 'formula' referenced before assignment"
     ]
    }
   ],
   "source": [
    "formula = creaformula('Ritmo', df[df['Autor'].isin(candidatos)])"
   ]
  },
  {
   "cell_type": "code",
   "execution_count": 39,
   "id": "db8ffb29",
   "metadata": {},
   "outputs": [
    {
     "ename": "NameError",
     "evalue": "name 'formula' is not defined",
     "output_type": "error",
     "traceback": [
      "\u001b[0;31m---------------------------------------------------------------------------\u001b[0m",
      "\u001b[0;31mNameError\u001b[0m                                 Traceback (most recent call last)",
      "\u001b[0;32m<ipython-input-39-caa0cb7ee5a4>\u001b[0m in \u001b[0;36m<module>\u001b[0;34m\u001b[0m\n\u001b[0;32m----> 1\u001b[0;31m \u001b[0mformula\u001b[0m\u001b[0;34m\u001b[0m\u001b[0;34m\u001b[0m\u001b[0m\n\u001b[0m",
      "\u001b[0;31mNameError\u001b[0m: name 'formula' is not defined"
     ]
    }
   ],
   "source": [
    "formula"
   ]
  },
  {
   "cell_type": "code",
   "execution_count": 40,
   "id": "654b38df",
   "metadata": {},
   "outputs": [
    {
     "ename": "NameError",
     "evalue": "name 'dflargo' is not defined",
     "output_type": "error",
     "traceback": [
      "\u001b[0;31m---------------------------------------------------------------------------\u001b[0m",
      "\u001b[0;31mNameError\u001b[0m                                 Traceback (most recent call last)",
      "\u001b[0;32m<ipython-input-40-6506095b0a3a>\u001b[0m in \u001b[0;36m<module>\u001b[0;34m\u001b[0m\n\u001b[0;32m----> 1\u001b[0;31m \u001b[0mdatos\u001b[0m \u001b[0;34m=\u001b[0m \u001b[0mdflargo\u001b[0m\u001b[0;34m[\u001b[0m\u001b[0mdflargo\u001b[0m\u001b[0;34m[\u001b[0m\u001b[0;34m'Autor'\u001b[0m\u001b[0;34m]\u001b[0m\u001b[0;34m.\u001b[0m\u001b[0misin\u001b[0m\u001b[0;34m(\u001b[0m\u001b[0mcandidatos\u001b[0m\u001b[0;34m)\u001b[0m\u001b[0;34m]\u001b[0m\u001b[0;34m.\u001b[0m\u001b[0mconvert_dtypes\u001b[0m\u001b[0;34m(\u001b[0m\u001b[0;34m)\u001b[0m\u001b[0;34m\u001b[0m\u001b[0;34m\u001b[0m\u001b[0m\n\u001b[0m",
      "\u001b[0;31mNameError\u001b[0m: name 'dflargo' is not defined"
     ]
    }
   ],
   "source": [
    "datos = dflargo[dflargo['Autor'].isin(candidatos)].convert_dtypes()"
   ]
  },
  {
   "cell_type": "code",
   "execution_count": 41,
   "id": "bbddec19",
   "metadata": {},
   "outputs": [
    {
     "ename": "NameError",
     "evalue": "name 'datos' is not defined",
     "output_type": "error",
     "traceback": [
      "\u001b[0;31m---------------------------------------------------------------------------\u001b[0m",
      "\u001b[0;31mNameError\u001b[0m                                 Traceback (most recent call last)",
      "\u001b[0;32m<ipython-input-41-1d8ed2279602>\u001b[0m in \u001b[0;36m<module>\u001b[0;34m\u001b[0m\n\u001b[0;32m----> 1\u001b[0;31m \u001b[0mdatos\u001b[0m\u001b[0;34m.\u001b[0m\u001b[0mdtypes\u001b[0m\u001b[0;34m\u001b[0m\u001b[0;34m\u001b[0m\u001b[0m\n\u001b[0m",
      "\u001b[0;31mNameError\u001b[0m: name 'datos' is not defined"
     ]
    }
   ],
   "source": [
    "datos.dtypes"
   ]
  },
  {
   "cell_type": "code",
   "execution_count": 42,
   "id": "7cb3cbeb",
   "metadata": {},
   "outputs": [
    {
     "ename": "NameError",
     "evalue": "name 'formula' is not defined",
     "output_type": "error",
     "traceback": [
      "\u001b[0;31m---------------------------------------------------------------------------\u001b[0m",
      "\u001b[0;31mNameError\u001b[0m                                 Traceback (most recent call last)",
      "\u001b[0;32m<ipython-input-42-e30170b06c9d>\u001b[0m in \u001b[0;36m<module>\u001b[0;34m\u001b[0m\n\u001b[1;32m      1\u001b[0m \u001b[0;31m#### Hay que convertir las columnas de Pandas a Entero normal!!!\u001b[0m\u001b[0;34m\u001b[0m\u001b[0;34m\u001b[0m\u001b[0;34m\u001b[0m\u001b[0m\n\u001b[0;32m----> 2\u001b[0;31m \u001b[0mmaov\u001b[0m \u001b[0;34m=\u001b[0m \u001b[0mMANOVA\u001b[0m\u001b[0;34m.\u001b[0m\u001b[0mfrom_formula\u001b[0m\u001b[0;34m(\u001b[0m\u001b[0mformula\u001b[0m\u001b[0;34m,\u001b[0m \u001b[0mdata\u001b[0m \u001b[0;34m=\u001b[0m \u001b[0mdatos\u001b[0m\u001b[0;34m)\u001b[0m\u001b[0;34m\u001b[0m\u001b[0;34m\u001b[0m\u001b[0m\n\u001b[0m",
      "\u001b[0;31mNameError\u001b[0m: name 'formula' is not defined"
     ]
    }
   ],
   "source": [
    "#### Hay que convertir las columnas de Pandas a Entero normal!!!\n",
    "maov = MANOVA.from_formula(formula, data = datos)"
   ]
  },
  {
   "cell_type": "code",
   "execution_count": 43,
   "id": "2dca1457",
   "metadata": {},
   "outputs": [],
   "source": [
    "#for idx, i in enumerate(pd.unique(dfritmosCLM['Ritmo'])):\n",
    "    #print(f'anova{idx} <- MANOVA.wide({i}  ~ Autor, data = ridf, iter = 100, resampling = \"WildBS\", seed=123,CPU = 4)')\n",
    "    #print(i)"
   ]
  },
  {
   "cell_type": "code",
   "execution_count": 44,
   "id": "4f3983e3",
   "metadata": {},
   "outputs": [
    {
     "ename": "NameError",
     "evalue": "name 'dfritmosX' is not defined",
     "output_type": "error",
     "traceback": [
      "\u001b[0;31m---------------------------------------------------------------------------\u001b[0m",
      "\u001b[0;31mNameError\u001b[0m                                 Traceback (most recent call last)",
      "\u001b[0;32m<ipython-input-44-2b1498ec6f2d>\u001b[0m in \u001b[0;36m<module>\u001b[0;34m\u001b[0m\n\u001b[1;32m      1\u001b[0m \u001b[0mcadena\u001b[0m \u001b[0;34m=\u001b[0m \u001b[0;34m'p.adjust(c('\u001b[0m\u001b[0;34m\u001b[0m\u001b[0;34m\u001b[0m\u001b[0m\n\u001b[0;32m----> 2\u001b[0;31m \u001b[0;32mfor\u001b[0m \u001b[0midx\u001b[0m\u001b[0;34m,\u001b[0m \u001b[0mi\u001b[0m \u001b[0;32min\u001b[0m \u001b[0menumerate\u001b[0m\u001b[0;34m(\u001b[0m\u001b[0mpd\u001b[0m\u001b[0;34m.\u001b[0m\u001b[0munique\u001b[0m\u001b[0;34m(\u001b[0m\u001b[0mdfritmosX\u001b[0m\u001b[0;34m[\u001b[0m\u001b[0;34m'Ritmo'\u001b[0m\u001b[0;34m]\u001b[0m\u001b[0;34m)\u001b[0m\u001b[0;34m)\u001b[0m\u001b[0;34m:\u001b[0m\u001b[0;34m\u001b[0m\u001b[0;34m\u001b[0m\u001b[0m\n\u001b[0m\u001b[1;32m      3\u001b[0m     \u001b[0mcadena\u001b[0m \u001b[0;34m+=\u001b[0m \u001b[0;34mf'anova{idx}$resampling[, 2],'\u001b[0m\u001b[0;34m\u001b[0m\u001b[0;34m\u001b[0m\u001b[0m\n\u001b[1;32m      4\u001b[0m \u001b[0mcadena\u001b[0m \u001b[0;34m+=\u001b[0m \u001b[0;34m'), method = \"bonferroni\")'\u001b[0m\u001b[0;34m\u001b[0m\u001b[0;34m\u001b[0m\u001b[0m\n",
      "\u001b[0;31mNameError\u001b[0m: name 'dfritmosX' is not defined"
     ]
    }
   ],
   "source": [
    "cadena = 'p.adjust(c('\n",
    "for idx, i in enumerate(pd.unique(dfritmosX['Ritmo'])):\n",
    "    cadena += f'anova{idx}$resampling[, 2],'\n",
    "cadena += '), method = \"bonferroni\")'"
   ]
  },
  {
   "cell_type": "code",
   "execution_count": 45,
   "id": "ca9b88e1",
   "metadata": {},
   "outputs": [
    {
     "ename": "NameError",
     "evalue": "name 'maov' is not defined",
     "output_type": "error",
     "traceback": [
      "\u001b[0;31m---------------------------------------------------------------------------\u001b[0m",
      "\u001b[0;31mNameError\u001b[0m                                 Traceback (most recent call last)",
      "\u001b[0;32m<ipython-input-45-d49e5796e69c>\u001b[0m in \u001b[0;36m<module>\u001b[0;34m\u001b[0m\n\u001b[0;32m----> 1\u001b[0;31m \u001b[0mprint\u001b[0m\u001b[0;34m(\u001b[0m\u001b[0mmaov\u001b[0m\u001b[0;34m.\u001b[0m\u001b[0mmv_test\u001b[0m\u001b[0;34m(\u001b[0m\u001b[0;34m)\u001b[0m\u001b[0;34m)\u001b[0m\u001b[0;34m\u001b[0m\u001b[0;34m\u001b[0m\u001b[0m\n\u001b[0m",
      "\u001b[0;31mNameError\u001b[0m: name 'maov' is not defined"
     ]
    }
   ],
   "source": [
    "print(maov.mv_test())"
   ]
  },
  {
   "cell_type": "markdown",
   "id": "46b90329",
   "metadata": {},
   "source": [
    "test"
   ]
  }
 ],
 "metadata": {
  "kernelspec": {
   "display_name": "Python 3",
   "language": "python",
   "name": "python3"
  },
  "language_info": {
   "codemirror_mode": {
    "name": "ipython",
    "version": 3
   },
   "file_extension": ".py",
   "mimetype": "text/x-python",
   "name": "python",
   "nbconvert_exporter": "python",
   "pygments_lexer": "ipython3",
   "version": "3.9.2"
  }
 },
 "nbformat": 4,
 "nbformat_minor": 5
}
