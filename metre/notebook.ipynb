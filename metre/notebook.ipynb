{
 "cells": [
  {
   "cell_type": "code",
   "execution_count": 1,
   "id": "ecf5fbc1",
   "metadata": {},
   "outputs": [],
   "source": [
    "# FIRST PART\n",
    "# 1. The word: phonological segments\n",
    "# 2. The verse: prosody\n",
    "# 3. The text: metatextual structure"
   ]
  },
  {
   "cell_type": "code",
   "execution_count": 2,
   "id": "4f4ea807",
   "metadata": {},
   "outputs": [
    {
     "name": "stderr",
     "output_type": "stream",
     "text": [
      "2021-12-03 12:10:28 WARNING: Language es package ancora expects mwt, which has been added\n",
      "2021-12-03 12:10:28 INFO: Loading these models for language: es (Spanish):\n",
      "=======================\n",
      "| Processor | Package |\n",
      "-----------------------\n",
      "| tokenize  | ancora  |\n",
      "| mwt       | ancora  |\n",
      "| pos       | ancora  |\n",
      "| lemma     | ancora  |\n",
      "| depparse  | ancora  |\n",
      "| ner       | ancora  |\n",
      "=======================\n",
      "\n",
      "2021-12-03 12:10:28 INFO: Use device: cpu\n",
      "2021-12-03 12:10:28 INFO: Loading: tokenize\n",
      "2021-12-03 12:10:29 INFO: Loading: mwt\n",
      "2021-12-03 12:10:29 INFO: Loading: pos\n",
      "2021-12-03 12:10:29 INFO: Loading: lemma\n",
      "2021-12-03 12:10:29 INFO: Loading: depparse\n",
      "2021-12-03 12:10:29 INFO: Loading: ner\n",
      "2021-12-03 12:10:30 INFO: Done loading processors!\n"
     ]
    }
   ],
   "source": [
    "from libscansion import transcribe, nlp, silabas as slbs\n",
    "from silabeador import silabea\n",
    "from re import sub"
   ]
  },
  {
   "cell_type": "code",
   "execution_count": 3,
   "id": "550bb96d",
   "metadata": {},
   "outputs": [],
   "source": [
    "# A verse\n",
    "# Let's make a list of it\n",
    "text = 'Sueña el rico en su riqueza,'.split()"
   ]
  },
  {
   "cell_type": "code",
   "execution_count": 4,
   "id": "e076f816",
   "metadata": {},
   "outputs": [
    {
     "data": {
      "text/plain": [
       "['Sueña', 'el', 'rico', 'en', 'su', 'riqueza,']"
      ]
     },
     "execution_count": 4,
     "metadata": {},
     "output_type": "execute_result"
    }
   ],
   "source": [
    "text"
   ]
  },
  {
   "cell_type": "code",
   "execution_count": 5,
   "id": "39dd4131",
   "metadata": {},
   "outputs": [
    {
     "data": {
      "text/plain": [
       "['Sue', 'ña']"
      ]
     },
     "execution_count": 5,
     "metadata": {},
     "output_type": "execute_result"
    }
   ],
   "source": [
    "# Hyphenation (orthographic spelling)\n",
    "silabea('Sueña')"
   ]
  },
  {
   "cell_type": "code",
   "execution_count": 6,
   "id": "e92ee1bb",
   "metadata": {},
   "outputs": [
    {
     "data": {
      "text/plain": [
       "[['Sue', 'ña'], ['el'], ['ri', 'co'], ['en'], ['su'], ['ri', 'que', 'za,']]"
      ]
     },
     "execution_count": 6,
     "metadata": {},
     "output_type": "execute_result"
    }
   ],
   "source": [
    "syllables = []\n",
    "[syllables.append(silabea(word)) for word in text]\n",
    "syllables"
   ]
  },
  {
   "cell_type": "code",
   "execution_count": 7,
   "id": "11b3b133",
   "metadata": {},
   "outputs": [
    {
     "data": {
      "text/plain": [
       "[\"'swe\", 'ɲa']"
      ]
     },
     "execution_count": 7,
     "metadata": {},
     "output_type": "execute_result"
    }
   ],
   "source": [
    "# Phonological transcription (almost)\n",
    "transcribe('Sueña')"
   ]
  },
  {
   "cell_type": "code",
   "execution_count": 8,
   "id": "69f76fd2",
   "metadata": {},
   "outputs": [
    {
     "data": {
      "text/plain": [
       "[[\"'swe\", 'ɲa'], [\"'el\"], [\"'ri\", 'ko'], [\"'en\"], [\"'su\"], ['ri', \"'ke\", 'θa']]"
      ]
     },
     "execution_count": 8,
     "metadata": {},
     "output_type": "execute_result"
    }
   ],
   "source": [
    "phonemes = []\n",
    "[phonemes.append(\n",
    "    transcribe(sub(r'[^\\w\\s]','',word)))\n",
    "               for word in text]\n",
    "phonemes"
   ]
  },
  {
   "cell_type": "code",
   "execution_count": 9,
   "id": "eac50199",
   "metadata": {},
   "outputs": [
    {
     "name": "stdout",
     "output_type": "stream",
     "text": [
      "Sueña\n",
      "\"Sueña\"\n",
      "[\"'swe\", 'ɲa']\n",
      "el\n",
      "\"el\"\n",
      "[\"'el\"]\n",
      "rico\n",
      "\"rico\"\n",
      "[\"'ri\", 'ko']\n",
      "en\n",
      "\"en\"\n",
      "[\"'en\"]\n",
      "su\n",
      "\"su\"\n",
      "[\"'su\"]\n",
      "riqueza,\n",
      "\"riqueza\"\n",
      "['ri', \"'ke\", 'θa']\n"
     ]
    }
   ],
   "source": [
    "for word in text:\n",
    "    print(word)\n",
    "    w = sub(r\"[^\\w\\s]\",\"\",word)\n",
    "    print(f'\"{w}\"')\n",
    "    print(transcribe(w))"
   ]
  },
  {
   "cell_type": "code",
   "execution_count": 10,
   "id": "162c92fd",
   "metadata": {},
   "outputs": [
    {
     "data": {
      "text/plain": [
       "[\n",
       "  [\n",
       "    {\n",
       "      \"id\": 1,\n",
       "      \"text\": \"Sueña\",\n",
       "      \"lemma\": \"soñar\",\n",
       "      \"upos\": \"VERB\",\n",
       "      \"feats\": \"Mood=Ind|Number=Sing|Person=3|Tense=Pres|VerbForm=Fin\",\n",
       "      \"head\": 0,\n",
       "      \"deprel\": \"root\",\n",
       "      \"start_char\": 0,\n",
       "      \"end_char\": 5,\n",
       "      \"ner\": \"O\"\n",
       "    },\n",
       "    {\n",
       "      \"id\": 2,\n",
       "      \"text\": \"el\",\n",
       "      \"lemma\": \"el\",\n",
       "      \"upos\": \"DET\",\n",
       "      \"feats\": \"Definite=Def|Gender=Masc|Number=Sing|PronType=Art\",\n",
       "      \"head\": 3,\n",
       "      \"deprel\": \"det\",\n",
       "      \"start_char\": 6,\n",
       "      \"end_char\": 8,\n",
       "      \"ner\": \"O\"\n",
       "    },\n",
       "    {\n",
       "      \"id\": 3,\n",
       "      \"text\": \"rico\",\n",
       "      \"lemma\": \"rico\",\n",
       "      \"upos\": \"ADJ\",\n",
       "      \"feats\": \"Gender=Masc|Number=Sing\",\n",
       "      \"head\": 1,\n",
       "      \"deprel\": \"nsubj\",\n",
       "      \"start_char\": 9,\n",
       "      \"end_char\": 13,\n",
       "      \"ner\": \"O\"\n",
       "    },\n",
       "    {\n",
       "      \"id\": 4,\n",
       "      \"text\": \"en\",\n",
       "      \"lemma\": \"en\",\n",
       "      \"upos\": \"ADP\",\n",
       "      \"head\": 6,\n",
       "      \"deprel\": \"case\",\n",
       "      \"start_char\": 14,\n",
       "      \"end_char\": 16,\n",
       "      \"ner\": \"O\"\n",
       "    },\n",
       "    {\n",
       "      \"id\": 5,\n",
       "      \"text\": \"su\",\n",
       "      \"lemma\": \"su\",\n",
       "      \"upos\": \"DET\",\n",
       "      \"feats\": \"Number=Sing|Person=3|Poss=Yes|PronType=Prs\",\n",
       "      \"head\": 6,\n",
       "      \"deprel\": \"det\",\n",
       "      \"start_char\": 17,\n",
       "      \"end_char\": 19,\n",
       "      \"ner\": \"O\"\n",
       "    },\n",
       "    {\n",
       "      \"id\": 6,\n",
       "      \"text\": \"riqueza\",\n",
       "      \"lemma\": \"riqueza\",\n",
       "      \"upos\": \"NOUN\",\n",
       "      \"feats\": \"Gender=Fem|Number=Sing\",\n",
       "      \"head\": 1,\n",
       "      \"deprel\": \"obl\",\n",
       "      \"start_char\": 20,\n",
       "      \"end_char\": 27,\n",
       "      \"ner\": \"O\"\n",
       "    }\n",
       "  ]\n",
       "]"
      ]
     },
     "execution_count": 10,
     "metadata": {},
     "output_type": "execute_result"
    }
   ],
   "source": [
    "morphosyntax = nlp('Sueña el rico en su riqueza')\n",
    "morphosyntax"
   ]
  },
  {
   "cell_type": "code",
   "execution_count": 11,
   "id": "8b9fd790",
   "metadata": {},
   "outputs": [
    {
     "data": {
      "text/plain": [
       "[([\"'swe\", 'ɲa'], True),\n",
       " ([\"'el\"], False),\n",
       " ([\"'ri\", 'ko'], True),\n",
       " ([\"'en\"], False),\n",
       " ([\"'su\"], False),\n",
       " (['ri', \"'ke\", 'θa'], True)]"
      ]
     },
     "execution_count": 11,
     "metadata": {},
     "output_type": "execute_result"
    }
   ],
   "source": [
    "prosody = []\n",
    "for idx, word in enumerate(phonemes):\n",
    "    stressed = False\n",
    "    if morphosyntax.sentences[0].words[idx].upos in ['VERB', 'NOUN', 'ADJ']:\n",
    "        stressed = True\n",
    "    prosody.append((word, stressed))\n",
    "prosody"
   ]
  },
  {
   "cell_type": "code",
   "execution_count": 12,
   "id": "72340849",
   "metadata": {},
   "outputs": [],
   "source": [
    "# Probable lenghts\n",
    "length = [8, 11, 77]"
   ]
  },
  {
   "cell_type": "code",
   "execution_count": 13,
   "id": "569ab124",
   "metadata": {},
   "outputs": [
    {
     "name": "stdout",
     "output_type": "stream",
     "text": [
      "\n",
      "Versión: 0.1.1beta1\n",
      "\n"
     ]
    }
   ],
   "source": [
    "# Verse parsing\n",
    "verso = slbs('Sueña el rico en su riqueza', length)"
   ]
  },
  {
   "cell_type": "code",
   "execution_count": 14,
   "id": "28129505",
   "metadata": {},
   "outputs": [
    {
     "data": {
      "text/plain": [
       "[['swE', 'ɲàel'], ['rI', 'kòen'], ['su'], ['ri', 'kE', 'θa']]"
      ]
     },
     "execution_count": 14,
     "metadata": {},
     "output_type": "execute_result"
    }
   ],
   "source": [
    "# Prosodic stress\n",
    "verso.silabasmetricas"
   ]
  },
  {
   "cell_type": "code",
   "execution_count": 15,
   "id": "d18746d6",
   "metadata": {},
   "outputs": [
    {
     "data": {
      "text/plain": [
       "'+-+---+-'"
      ]
     },
     "execution_count": 15,
     "metadata": {},
     "output_type": "execute_result"
    }
   ],
   "source": [
    "verso.ritmo"
   ]
  },
  {
   "cell_type": "code",
   "execution_count": 16,
   "id": "f78a688b",
   "metadata": {},
   "outputs": [
    {
     "data": {
      "text/plain": [
       "'keθa'"
      ]
     },
     "execution_count": 16,
     "metadata": {},
     "output_type": "execute_result"
    }
   ],
   "source": [
    "verso.rima"
   ]
  },
  {
   "cell_type": "code",
   "execution_count": 17,
   "id": "ffe3f92b",
   "metadata": {},
   "outputs": [
    {
     "data": {
      "text/plain": [
       "'ea'"
      ]
     },
     "execution_count": 17,
     "metadata": {},
     "output_type": "execute_result"
    }
   ],
   "source": [
    "verso.ason"
   ]
  },
  {
   "cell_type": "code",
   "execution_count": 18,
   "id": "3f2e7e57",
   "metadata": {},
   "outputs": [
    {
     "data": {
      "text/plain": [
       "8"
      ]
     },
     "execution_count": 18,
     "metadata": {},
     "output_type": "execute_result"
    }
   ],
   "source": [
    "verso.ml"
   ]
  },
  {
   "cell_type": "code",
   "execution_count": 19,
   "id": "c458f12f",
   "metadata": {},
   "outputs": [
    {
     "data": {
      "text/plain": [
       "['E', 'e', 'I', 'e', 'u', 'i', 'E', 'a']"
      ]
     },
     "execution_count": 19,
     "metadata": {},
     "output_type": "execute_result"
    }
   ],
   "source": [
    "verso.nucleosilabico"
   ]
  },
  {
   "cell_type": "code",
   "execution_count": 20,
   "id": "1100222b",
   "metadata": {},
   "outputs": [
    {
     "data": {
      "text/plain": [
       "0"
      ]
     },
     "execution_count": 20,
     "metadata": {},
     "output_type": "execute_result"
    }
   ],
   "source": [
    "verso.ambiguo"
   ]
  },
  {
   "cell_type": "code",
   "execution_count": 21,
   "id": "637fc255",
   "metadata": {},
   "outputs": [],
   "source": [
    "########################################"
   ]
  },
  {
   "cell_type": "code",
   "execution_count": 22,
   "id": "03641f76",
   "metadata": {},
   "outputs": [],
   "source": [
    "# SECOND PART --+---+-"
   ]
  },
  {
   "cell_type": "code",
   "execution_count": 23,
   "id": "042f9270",
   "metadata": {},
   "outputs": [],
   "source": [
    "########################################3\n",
    "# 1. Modules\n",
    "# 2. Optional visualisation variables\n",
    "# 3. Preprocessing functions\n",
    "# 4. Tabular functions\n",
    "# 5. Statistic functions\n",
    "# 6. Body"
   ]
  },
  {
   "cell_type": "code",
   "execution_count": 24,
   "id": "f6d93aaf",
   "metadata": {},
   "outputs": [],
   "source": [
    "# 1. MODULES"
   ]
  },
  {
   "cell_type": "code",
   "execution_count": 25,
   "id": "abd1b972",
   "metadata": {},
   "outputs": [],
   "source": [
    "# Import modules\n",
    "\n",
    "import pandas as pd\n",
    "import seaborn as sns\n",
    "import matplotlib.pyplot as plt\n",
    "import numpy as np\n",
    "import statsmodels.api as sm\n",
    "import statsmodels.formula.api as smf\n",
    "import collections\n",
    "import re\n",
    "from statsmodels.multivariate.manova import MANOVA"
   ]
  },
  {
   "cell_type": "code",
   "execution_count": 26,
   "id": "710225c9",
   "metadata": {},
   "outputs": [],
   "source": [
    "# 2. VISUALISATION VARIABLES\n",
    "# Number of lines shown &c.\n",
    "\n",
    "pd.set_option('display.max_rows', None)\n",
    "pd.set_option('display.max_columns', None)\n",
    "pd.set_option('display.width', None)\n",
    "pd.set_option('display.max_colwidth', None)"
   ]
  },
  {
   "cell_type": "code",
   "execution_count": 27,
   "id": "f61f8777",
   "metadata": {},
   "outputs": [],
   "source": [
    "# 3. PREPROCESSING FUNCTIONS"
   ]
  },
  {
   "cell_type": "code",
   "execution_count": 28,
   "id": "6c8e74ad",
   "metadata": {},
   "outputs": [],
   "source": [
    "def corrigetabla(data):\n",
    "    data['Vocal'] = ''\n",
    "    columnas = ['ac1','ac2','ac3','ac4','ac5','ac6','ac7','ac8','ac9','ac10','ac11','ac12','ac13','ac14','ac15']\n",
    "    data['Ritmo'] = data['Ritmo'].str.replace('+','X').str.replace('-','o')\n",
    "    for columna in columnas:\n",
    "        data[columna] = data[columna].astype(str).fillna('')\n",
    "    for index, row in data.iterrows():\n",
    "        for columna in columnas:\n",
    "            if len(row[columna]) == 0:\n",
    "                data.at[index, columna] = ''\n",
    "            data.at[index, columna] = re.sub('([AEIOU])[aeiou]', '\\1', row[columna]).lower()\n",
    "            data.at[index, columna] = re.sub('[aeiou]([AEIOU])', '\\1', row[columna]).lower()\n",
    "            data.at[index, columna] = re.sub('([aeiou])[iu]', '\\1', row[columna]).lower()\n",
    "            data.at[index, columna] = re.sub('([iu])([aeo])', '\\1', row[columna]).lower()\n",
    "            data.at[index, columna] = re.sub('([AEIOU])[IU]', '\\1', row[columna]).lower()\n",
    "            data.at[index, columna] = re.sub('[IU]([AEO])', '\\1', row[columna]).lower()\n",
    "        letras = ''.join(row[columnas]).replace('<na>','').strip()\n",
    "        a = collections.Counter(letras).most_common(1)[0][0]\n",
    "        data.at[index,'Vocal'] = a\n",
    "    return data"
   ]
  },
  {
   "cell_type": "code",
   "execution_count": 29,
   "id": "b458bee7",
   "metadata": {},
   "outputs": [],
   "source": [
    "# 4. TABULAR FUNCTIONS"
   ]
  },
  {
   "cell_type": "code",
   "execution_count": 30,
   "id": "9c84c6c6",
   "metadata": {},
   "outputs": [],
   "source": [
    "def samples(data, authors, nsamples):\n",
    "    import numpy as np\n",
    "    sample = pd.DataFrame()\n",
    "    for i in authors:\n",
    "        g = data.loc[data['Author'] == i].groupby('Title')\n",
    "        a = np.arange(g.ngroups)\n",
    "        np.random.shuffle(a)\n",
    "        sample = sample.append(data.loc[df['Author'] == i][g.ngroup().isin(a[:nsamples])])\n",
    "    return sample"
   ]
  },
  {
   "cell_type": "code",
   "execution_count": 31,
   "id": "43cf8536",
   "metadata": {},
   "outputs": [],
   "source": [
    "def muestrasiguales(data, i=0):\n",
    "    resultado = pd.DataFrame()\n",
    "    obras = pd.unique(data['Pieza'])\n",
    "    if i == 0:\n",
    "        menor = min([len(data[data['Pieza'] == obra]) for obra in obras])\n",
    "    else:\n",
    "        menor = 100\n",
    "    for obra in obras:\n",
    "        resultado = resultado.append(\n",
    "            data[data['Pieza'] == obra].sample(n=menor, random_state = 42), ignore_index=True\n",
    "        )\n",
    "    return (resultado, menor)"
   ]
  },
  {
   "cell_type": "code",
   "execution_count": 32,
   "id": "dee3c48d",
   "metadata": {},
   "outputs": [],
   "source": [
    "def recount(data, columna):\n",
    "    dfritmo = pd.DataFrame()\n",
    "    valores = pd.unique(data[columna])\n",
    "    obras = pd.unique(data['Title'])\n",
    "    for obra in obras:\n",
    "        nversos = len(data[data['Title'] == obra])\n",
    "        cuentas = {}\n",
    "        autor =  data.loc[data['Title'] == obra]['Author'].value_counts()[:1].index.tolist()[0]\n",
    "        for valor in valores:\n",
    "            fila = {'Title': obra, 'Author': autor}\n",
    "            cuenta = len(data.loc[data['Title'] == obra][data[columna] == valor])\n",
    "            relcuenta = cuenta/nversos\n",
    "            fila = {'Title': obra, 'Author': autor, columna: valor, 'Count': cuenta, 'RelCount' : relcuenta}\n",
    "            if cuenta > 0:           \n",
    "                dfritmo = dfritmo.append(fila, ignore_index=True)\n",
    "    return dfritmo.convert_dtypes()"
   ]
  },
  {
   "cell_type": "code",
   "execution_count": 33,
   "id": "0da143c8",
   "metadata": {},
   "outputs": [],
   "source": [
    "def longformat(data, columna, cuenta='Count'):\n",
    "    dflargo = pd.DataFrame()\n",
    "    obras = pd.unique(data['Title'])\n",
    "    variables = pd.unique(data[columna])\n",
    "    calderon = lope = mira = 0\n",
    "    for obra in obras:\n",
    "        subconjunto = data[data['Title'] == obra]\n",
    "        autor = max(subconjunto['Author'])\n",
    "        fila = {'Author': autor, 'Title': obra}\n",
    "        for var in variables:\n",
    "            suma = subconjunto[subconjunto[columna] == var]['Count'].sum()\n",
    "            fila.update({var: suma})\n",
    "        dflargo = dflargo.append(fila, ignore_index=True)\n",
    "    return dflargo.convert_dtypes()"
   ]
  },
  {
   "cell_type": "code",
   "execution_count": 34,
   "id": "084c31a3",
   "metadata": {},
   "outputs": [],
   "source": [
    "def recorta(data, minimo):\n",
    "    for valor in data.columns:\n",
    "        #if valor != 'Autor' and valor != 'Pieza':\n",
    "        if data[valor].dtype.kind in 'biufc':\n",
    "            if data[valor].sum() < minimo:\n",
    "                data = data.drop(columns=valor)\n",
    "    return data.convert_dtypes()"
   ]
  },
  {
   "cell_type": "code",
   "execution_count": 35,
   "id": "97b210b7",
   "metadata": {},
   "outputs": [],
   "source": [
    "def min_freq(data, columna, minimo):\n",
    "    return data.groupby(columna).filter(lambda x : (x[columna].count()>=minimo).any()).convert_dtypes()"
   ]
  },
  {
   "cell_type": "code",
   "execution_count": 36,
   "id": "9452da6c",
   "metadata": {},
   "outputs": [],
   "source": [
    "def borra(data, columna, ritmosx):\n",
    "    obras = pd.unique(data['Pieza'].values)\n",
    "    ritmosa = pd.unique(data[columna].values)\n",
    "    for ritmo in ritmosa:\n",
    "        if ritmo not in ritmosx:\n",
    "            data = data.loc[a[columna] != ritmo]\n",
    "        else:\n",
    "            for autor in ['Calderón', 'Mira', 'Lope']:\n",
    "                if ritmo not in data.loc[data['Autor'] == autor][columna].values:\n",
    "                    data = data.loc[data[columna] != ritmo]\n",
    "            if len(data[data[columna] == ritmo]) < 20 or data.loc[data[columna] == ritmo]['RelCuenta'].max() < 0.05:\n",
    "                data = data.loc[data[columna] != ritmo]\n",
    "    return data"
   ]
  },
  {
   "cell_type": "code",
   "execution_count": 37,
   "id": "4a465e2f",
   "metadata": {},
   "outputs": [],
   "source": [
    "def borrar(data, columna, lista = []):\n",
    "    data = data.loc[~data['Autor'].isin(control)]\n",
    "    data = data.loc[~data['Pieza'].str.startswith('z', na=False)]\n",
    "    obras = pd.unique(data['Pieza'].values)\n",
    "    x = data.loc[data['Autor'].isin(dudosos)]\n",
    "    a = data.loc[~data['Autor'].isin(dudosos)]\n",
    "    if len(lista) == 0:\n",
    "        ritmosx = pd.unique(x[columna].values)\n",
    "        ritmosa = pd.unique(a[columna].values)\n",
    "    else:\n",
    "        return data.loc[data[columna].isin(lista)]\n",
    "    for ritmo in ritmosa:\n",
    "        if ritmo not in ritmosx:\n",
    "            a = a.loc[a[columna] != ritmo]\n",
    "        else:\n",
    "            for autor in ['Calderón', 'Mira', 'Lope']:\n",
    "                if ritmo not in a.loc[a['Autor'] == autor][columna].values:\n",
    "                    a = a.loc[a[columna] != ritmo]\n",
    "            if len(a[a[columna] == ritmo]) < 4 or a.loc[a[columna] == ritmo]['Cuenta'].max() < 4:\n",
    "                a = a.loc[a[columna] != ritmo]\n",
    "    dfritmo = pd.DataFrame()\n",
    "    valores = pd.unique(data[columna])\n",
    "    obras = pd.unique(data['Pieza'])\n",
    "    for obra in obras:\n",
    "        cuentas = {}\n",
    "        autor =  data[data['Pieza'] == obra]['Autor'].value_counts()[:1].index.tolist()[0]\n",
    "        for valor in valores:\n",
    "            fila = {'Pieza': obra, 'Autor': autor}\n",
    "            cuenta = len(data[data['Pieza'] == obra][data[columna] == valor])\n",
    "            fila = {'Pieza': obra, 'Autor': autor, columna: valor, 'Cuenta': cuenta, 'RelCuenta' : cuenta/len(obra)}\n",
    "            if cuenta > 0:           \n",
    "                dfritmo = dfritmo.append(fila, ignore_index=True)\n",
    "    return dfritmo.convert_dtypes()"
   ]
  },
  {
   "cell_type": "code",
   "execution_count": 38,
   "id": "4fe909d4",
   "metadata": {},
   "outputs": [],
   "source": [
    "#5. STATISTIC FUNCTIONS"
   ]
  },
  {
   "cell_type": "code",
   "execution_count": 39,
   "id": "39cb246e",
   "metadata": {},
   "outputs": [],
   "source": [
    "def analyse(data, j_test=pd.DataFrame(), analisis='k', test=0.2, alea = 42, plot='rbf', n=3):\n",
    "    X = data.drop('Author', axis=1).values\n",
    "    y = data['Author'].values\n",
    "    \n",
    "    from sklearn.model_selection import train_test_split\n",
    "    X_train, X_test, y_train, y_test = train_test_split(X, y, test_size=test, random_state=alea)\n",
    "    if analisis == 'k':\n",
    "        from sklearn.neighbors import KNeighborsClassifier\n",
    "        neighbors = np.arange(1,12)\n",
    "        train_accuracy =np.empty(len(neighbors))\n",
    "        test_accuracy = np.empty(len(neighbors))    \n",
    "        for i,k in enumerate(neighbors):\n",
    "            modelo = KNeighborsClassifier(n_neighbors=k)\n",
    "            modelo.fit(X_train,y_train)\n",
    "            train_accuracy[i] = modelo.score(X_train,y_train)\n",
    "            test_accuracy[i] = modelo.score(X_test, y_test)\n",
    "        if plot == 'y':\n",
    "            plt.rcParams[\"figure.figsize\"] = (10,8)\n",
    "            plt.title('k-NN number of neighbours')\n",
    "            plt.plot(neighbors, test_accuracy, label='Test Accuracy')\n",
    "            plt.plot(neighbors, train_accuracy, label='Training accuracy')\n",
    "            plt.legend()\n",
    "            plt.xlabel('Number of neighbours')\n",
    "            plt.ylabel('Accuracy')\n",
    "            plt.show()\n",
    "        else:\n",
    "            print(test_accuracy)\n",
    "        modelo = KNeighborsClassifier(n_neighbors=n)\n",
    "        modelo.fit(X_train,y_train)\n",
    "    elif analisis == 'r':\n",
    "        from sklearn.preprocessing import StandardScaler\n",
    "        sc = StandardScaler()\n",
    "        X_train = sc.fit_transform(X_train)\n",
    "        X_test = sc.transform(X_test)\n",
    "    \n",
    "        j_test = sc.transform(j_test)\n",
    "        from sklearn.linear_model import LogisticRegression\n",
    "        modelo = LogisticRegression(max_iter=1000,  random_state=alea)\n",
    "        modelo.fit(X_train,y_train)\n",
    "        y_pred = modelo.predict(X_test)\n",
    "    elif analisis == 's':\n",
    "        from sklearn import svm\n",
    "        modelo = svm.SVC(kernel=plot)\n",
    "        modelo.fit(X_train,y_train)\n",
    "    else:\n",
    "        return False\n",
    "    from sklearn.metrics import classification_report\n",
    "    print(f'Score: {modelo.score(X_test,y_test)}')\n",
    "    from sklearn.metrics import confusion_matrix\n",
    "    y_pred = modelo.predict(X_test)\n",
    "    print(modelo.predict(j_test))\n",
    "    return modelo"
   ]
  },
  {
   "cell_type": "code",
   "execution_count": 40,
   "id": "29f1821e",
   "metadata": {},
   "outputs": [],
   "source": [
    "def creaformula(columna, data):\n",
    "    variables = []\n",
    "    lista = pd.unique(data[columna])\n",
    "    for idx, elemento in enumerate(lista):\n",
    "        if idx == 0:\n",
    "            formula = f'{elemento} ~ Autor'\n",
    "        else:\n",
    "            formula = f'{elemento} + {formula}'\n",
    "        variables += [elemento]\n",
    "    return formula"
   ]
  },
  {
   "cell_type": "code",
   "execution_count": 41,
   "id": "7d86f03d",
   "metadata": {},
   "outputs": [],
   "source": [
    "#6. IT STARTS HERE"
   ]
  },
  {
   "cell_type": "code",
   "execution_count": 42,
   "id": "05f304e4",
   "metadata": {},
   "outputs": [
    {
     "data": {
      "text/html": [
       "<div>\n",
       "<style scoped>\n",
       "    .dataframe tbody tr th:only-of-type {\n",
       "        vertical-align: middle;\n",
       "    }\n",
       "\n",
       "    .dataframe tbody tr th {\n",
       "        vertical-align: top;\n",
       "    }\n",
       "\n",
       "    .dataframe thead th {\n",
       "        text-align: right;\n",
       "    }\n",
       "</style>\n",
       "<table border=\"1\" class=\"dataframe\">\n",
       "  <thead>\n",
       "    <tr style=\"text-align: right;\">\n",
       "      <th></th>\n",
       "      <th>Author</th>\n",
       "      <th>Title</th>\n",
       "      <th>Genre</th>\n",
       "      <th>Subgenre</th>\n",
       "      <th>Act</th>\n",
       "      <th>Speech</th>\n",
       "      <th>Verse</th>\n",
       "      <th>Character</th>\n",
       "      <th>Type</th>\n",
       "      <th>Gender</th>\n",
       "      <th>Text</th>\n",
       "      <th>Syllables</th>\n",
       "      <th>Ambiguous</th>\n",
       "      <th>Nuclei</th>\n",
       "      <th>Assonance</th>\n",
       "      <th>Consonance</th>\n",
       "      <th>Rhythm</th>\n",
       "    </tr>\n",
       "  </thead>\n",
       "  <tbody>\n",
       "    <tr>\n",
       "      <th>0</th>\n",
       "      <td>Lope</td>\n",
       "      <td>Auto del pan y el palo</td>\n",
       "      <td>Auto sacramental</td>\n",
       "      <td>ø</td>\n",
       "      <td>0</td>\n",
       "      <td>1</td>\n",
       "      <td>1</td>\n",
       "      <td>BUEN AÑO</td>\n",
       "      <td>NaN</td>\n",
       "      <td>M</td>\n",
       "      <td>Espérate, Regocijo,</td>\n",
       "      <td>8</td>\n",
       "      <td>0</td>\n",
       "      <td>eEaeeoIo</td>\n",
       "      <td>io</td>\n",
       "      <td>θixo</td>\n",
       "      <td>oXooooXo</td>\n",
       "    </tr>\n",
       "    <tr>\n",
       "      <th>1</th>\n",
       "      <td>Lope</td>\n",
       "      <td>Auto del pan y el palo</td>\n",
       "      <td>Auto sacramental</td>\n",
       "      <td>ø</td>\n",
       "      <td>0</td>\n",
       "      <td>1</td>\n",
       "      <td>2</td>\n",
       "      <td>BUEN AÑO</td>\n",
       "      <td>NaN</td>\n",
       "      <td>M</td>\n",
       "      <td>que el viento en las plantas llevas.</td>\n",
       "      <td>8</td>\n",
       "      <td>0</td>\n",
       "      <td>eEeaAaEa</td>\n",
       "      <td>ea</td>\n",
       "      <td>ʎebas</td>\n",
       "      <td>oXooXoXo</td>\n",
       "    </tr>\n",
       "    <tr>\n",
       "      <th>2</th>\n",
       "      <td>Lope</td>\n",
       "      <td>Auto del pan y el palo</td>\n",
       "      <td>Auto sacramental</td>\n",
       "      <td>ø</td>\n",
       "      <td>0</td>\n",
       "      <td>2</td>\n",
       "      <td>3</td>\n",
       "      <td>REGOCIJO</td>\n",
       "      <td>NaN</td>\n",
       "      <td>M</td>\n",
       "      <td>Engéndranme buenas nuevas</td>\n",
       "      <td>8</td>\n",
       "      <td>0</td>\n",
       "      <td>eEaeEaEa</td>\n",
       "      <td>ea</td>\n",
       "      <td>nwebas</td>\n",
       "      <td>oXooXoXo</td>\n",
       "    </tr>\n",
       "    <tr>\n",
       "      <th>3</th>\n",
       "      <td>Lope</td>\n",
       "      <td>Auto del pan y el palo</td>\n",
       "      <td>Auto sacramental</td>\n",
       "      <td>ø</td>\n",
       "      <td>0</td>\n",
       "      <td>2</td>\n",
       "      <td>4</td>\n",
       "      <td>REGOCIJO</td>\n",
       "      <td>NaN</td>\n",
       "      <td>M</td>\n",
       "      <td>si sabes que soy su hijo.</td>\n",
       "      <td>8</td>\n",
       "      <td>0</td>\n",
       "      <td>iAeeOuIo</td>\n",
       "      <td>io</td>\n",
       "      <td>ixo</td>\n",
       "      <td>oXooXoXo</td>\n",
       "    </tr>\n",
       "    <tr>\n",
       "      <th>4</th>\n",
       "      <td>Lope</td>\n",
       "      <td>Auto del pan y el palo</td>\n",
       "      <td>Auto sacramental</td>\n",
       "      <td>ø</td>\n",
       "      <td>0</td>\n",
       "      <td>2</td>\n",
       "      <td>5</td>\n",
       "      <td>REGOCIJO</td>\n",
       "      <td>NaN</td>\n",
       "      <td>M</td>\n",
       "      <td>¿Qué me mandas esperar?</td>\n",
       "      <td>8</td>\n",
       "      <td>0</td>\n",
       "      <td>EeAaeeA</td>\n",
       "      <td>a</td>\n",
       "      <td>ɾaɾ</td>\n",
       "      <td>XoXoooX</td>\n",
       "    </tr>\n",
       "  </tbody>\n",
       "</table>\n",
       "</div>"
      ],
      "text/plain": [
       "  Author                   Title             Genre Subgenre  Act  Speech  \\\n",
       "0   Lope  Auto del pan y el palo  Auto sacramental        ø    0       1   \n",
       "1   Lope  Auto del pan y el palo  Auto sacramental        ø    0       1   \n",
       "2   Lope  Auto del pan y el palo  Auto sacramental        ø    0       2   \n",
       "3   Lope  Auto del pan y el palo  Auto sacramental        ø    0       2   \n",
       "4   Lope  Auto del pan y el palo  Auto sacramental        ø    0       2   \n",
       "\n",
       "   Verse Character  Type Gender                                  Text  \\\n",
       "0      1  BUEN AÑO   NaN      M                   Espérate, Regocijo,   \n",
       "1      2  BUEN AÑO   NaN      M  que el viento en las plantas llevas.   \n",
       "2      3  REGOCIJO   NaN      M             Engéndranme buenas nuevas   \n",
       "3      4  REGOCIJO   NaN      M             si sabes que soy su hijo.   \n",
       "4      5  REGOCIJO   NaN      M               ¿Qué me mandas esperar?   \n",
       "\n",
       "   Syllables  Ambiguous    Nuclei Assonance Consonance    Rhythm  \n",
       "0          8          0  eEaeeoIo        io       θixo  oXooooXo  \n",
       "1          8          0  eEeaAaEa        ea      ʎebas  oXooXoXo  \n",
       "2          8          0  eEaeEaEa        ea     nwebas  oXooXoXo  \n",
       "3          8          0  iAeeOuIo        io        ixo  oXooXoXo  \n",
       "4          8          0   EeAaeeA         a        ɾaɾ   XoXoooX  "
      ]
     },
     "execution_count": 42,
     "metadata": {},
     "output_type": "execute_result"
    }
   ],
   "source": [
    "# Load input file\n",
    "entrada = 'data.csv'\n",
    "df = pd.read_csv(entrada)\n",
    "df['Rhythm'] = df['Rhythm'].str.replace('+','X').str.replace('-','o')\n",
    "df.head()"
   ]
  },
  {
   "cell_type": "code",
   "execution_count": 43,
   "id": "1bb3bc27",
   "metadata": {},
   "outputs": [
    {
     "name": "stdout",
     "output_type": "stream",
     "text": [
      "['Lope' 'Mira' 'Calderón' 'X']\n"
     ]
    }
   ],
   "source": [
    "# Show authors\n",
    "authors = df['Author'].unique()\n",
    "print(authors)"
   ]
  },
  {
   "cell_type": "code",
   "execution_count": 44,
   "id": "349729f2",
   "metadata": {},
   "outputs": [
    {
     "data": {
      "text/plain": [
       "31"
      ]
     },
     "execution_count": 44,
     "metadata": {},
     "output_type": "execute_result"
    }
   ],
   "source": [
    "# Show titles\n",
    "titles = df['Title'].unique()\n",
    "len(titles)"
   ]
  },
  {
   "cell_type": "code",
   "execution_count": 45,
   "id": "7f9220c6",
   "metadata": {},
   "outputs": [
    {
     "data": {
      "text/plain": [
       "Author    Title                                    \n",
       "Calderón  El jardín de Falerina                        1894\n",
       "          El laberinto del mundo                       1998\n",
       "          El pintor de su deshonra                     1737\n",
       "          El sacro Pernaso                             1994\n",
       "          La divina Filotea                            1981\n",
       "          La piel de Gedeón                            1740\n",
       "          La protestación de la fe                     1669\n",
       "          Las espigas de Ruth                          1759\n",
       "          Primero y segundo Isaac                      1811\n",
       "          Psiquis y Cupido (Madrid)                    1860\n",
       "Lope      Auto del pan y el palo                       1032\n",
       "          El hijo pródigo                              1388\n",
       "          El misacantano                                789\n",
       "          El niño pastor                               1089\n",
       "          El nombre de Jesús                           1414\n",
       "          El viaje del alma                            1041\n",
       "          La maya                                      1391\n",
       "          Las bodas entre el Alma y el Amor Divino     1292\n",
       "          Las hazañas del segundo David                1125\n",
       "          Los acreedores del hombre                    1015\n",
       "Mira      El erario y monte de la piedad               1218\n",
       "          El heredero                                  1860\n",
       "          El rico avariento                            1142\n",
       "          La casa de Austria                            860\n",
       "          La guarda cuidadosa                          1201\n",
       "          La inquisición                               1258\n",
       "          La mayor soberbia humana de Nabucodonosor    1416\n",
       "          La santa Margarita                           1489\n",
       "          Nuestra Señora de los Remedios               1181\n",
       "          Pedro Telonario                              1039\n",
       "X         La hidalga del valle                         1561\n",
       "dtype: int64"
      ]
     },
     "execution_count": 45,
     "metadata": {},
     "output_type": "execute_result"
    }
   ],
   "source": [
    "df.groupby(['Author','Title']).size()"
   ]
  },
  {
   "cell_type": "code",
   "execution_count": 46,
   "id": "746cd025",
   "metadata": {},
   "outputs": [],
   "source": [
    "# Yo make things simpler later\n",
    "all_authors = ['Calderón', 'Lope', 'Mira', 'X']\n",
    "candidates = ['Calderón', 'Lope', 'Mira']\n",
    "disputed = 'X'"
   ]
  },
  {
   "cell_type": "code",
   "execution_count": 47,
   "id": "4e5bc950",
   "metadata": {},
   "outputs": [],
   "source": [
    "# I just want octosyllabic verses\n",
    "df = df.loc[df['Syllables'] == 8]"
   ]
  },
  {
   "cell_type": "code",
   "execution_count": 48,
   "id": "4ca12cc4",
   "metadata": {},
   "outputs": [],
   "source": [
    "# Candidates\n",
    "candidatesdf = df[df['Author'] != disputed]\n",
    "\n",
    "# Disputed\n",
    "disputeddf = df.loc[df['Author'] == disputed]"
   ]
  },
  {
   "cell_type": "code",
   "execution_count": 49,
   "id": "c2821010",
   "metadata": {},
   "outputs": [],
   "source": [
    "# I don't want very unusual hythms \n",
    "df = min_freq(df, 'Rhythm',  100)\n",
    "\n",
    "disputeddf = df.loc[df['Author'] == disputed]\n",
    "candidatesdf = df.loc[df['Author'] != disputed]"
   ]
  },
  {
   "cell_type": "code",
   "execution_count": 50,
   "id": "b09e3d96",
   "metadata": {},
   "outputs": [
    {
     "name": "stderr",
     "output_type": "stream",
     "text": [
      "<ipython-input-32-1e20bbf1edcb>:11: UserWarning: Boolean Series key will be reindexed to match DataFrame index.\n",
      "  cuenta = len(data.loc[data['Title'] == obra][data[columna] == valor])\n"
     ]
    }
   ],
   "source": [
    "# Count rhythms\n",
    "dfcount = recount(df, 'Rhythm')\n",
    "dfcandidatescount = recount(candidatesdf, 'Rhythm')"
   ]
  },
  {
   "cell_type": "code",
   "execution_count": 51,
   "id": "099fe6e1",
   "metadata": {},
   "outputs": [
    {
     "data": {
      "image/png": "[encoded data removed]",
      "text/plain": [
       "<Figure size 1152x576 with 1 Axes>"
      ]
     },
     "metadata": {
      "needs_background": "light"
     },
     "output_type": "display_data"
    }
   ],
   "source": [
    "# Hustogram\n",
    "plt.figure(figsize=(16,8))\n",
    "plt.xticks(rotation=45)\n",
    "plot = sns.histplot(x='Rhythm', hue='Author', data=candidatesdf, multiple=\"stack\") #, palette=paleta,multiple='stack'"
   ]
  },
  {
   "cell_type": "code",
   "execution_count": 52,
   "id": "aa1176ac",
   "metadata": {},
   "outputs": [
    {
     "data": {
      "image/png": "[encoded data removed]",
      "text/plain": [
       "<Figure size 1152x576 with 1 Axes>"
      ]
     },
     "metadata": {
      "needs_background": "light"
     },
     "output_type": "display_data"
    }
   ],
   "source": [
    "# Variance (boxes)\n",
    "plt.figure(figsize=(16,8))\n",
    "plt.xticks(rotation=45)\n",
    "plot = sns.boxplot(x='Rhythm', y='Count', hue='Author', data=dfcandidatescount, medianprops=dict(color=\"white\", alpha=0.7))\n"
   ]
  },
  {
   "cell_type": "code",
   "execution_count": 53,
   "id": "b5edf29f",
   "metadata": {},
   "outputs": [],
   "source": [
    "# Long format (Eacxh rhtyhm is a column)\n",
    "dflong = longformat(dfcount, 'Rhythm', 'Count')\n",
    "dfcandidateslong = longformat(dfcandidatescount, 'Rhythm', 'Count')"
   ]
  },
  {
   "cell_type": "code",
   "execution_count": 54,
   "id": "7e68f5e9",
   "metadata": {},
   "outputs": [
    {
     "data": {
      "image/png": "[encoded data removed]",
      "text/plain": [
       "<Figure size 432x288 with 1 Axes>"
      ]
     },
     "metadata": {
      "needs_background": "light"
     },
     "output_type": "display_data"
    }
   ],
   "source": [
    "# Scatterplot (dots) --+---+-\n",
    "plt.xticks(rotation=45)\n",
    "plot = sns.scatterplot(data=dfcandidateslong, x='oXooXoXo', y='ooXoooXo', hue=\"Author\") #    ooXoooXo oooXooXo oXooXoX oooXooXo oXooXoXo"
   ]
  },
  {
   "cell_type": "code",
   "execution_count": 55,
   "id": "15b69449",
   "metadata": {},
   "outputs": [
    {
     "name": "stdout",
     "output_type": "stream",
     "text": [
      "\n",
      "\n",
      "\n",
      "******************************************\n",
      "\\Title:\tX: La hidalga del valle\n",
      "\n",
      "Regresion\n",
      "Score: 1.0\n",
      "['Calderón']\n",
      "\n",
      "-------------------------------------------------------\n",
      "\n",
      "SVN\n",
      "Score: 1.0\n",
      "['Calderón']\n",
      "\n",
      "-------------------------------------------------------\n",
      "\n",
      "Knn:\n",
      "\n"
     ]
    },
    {
     "data": {
      "image/png": "[encoded data removed]",
      "text/plain": [
       "<Figure size 720x576 with 1 Axes>"
      ]
     },
     "metadata": {
      "needs_background": "light"
     },
     "output_type": "display_data"
    },
    {
     "name": "stdout",
     "output_type": "stream",
     "text": [
      "Score: 0.8333333333333334\n",
      "['Calderón']\n"
     ]
    },
    {
     "data": {
      "text/plain": [
       "KNeighborsClassifier(n_neighbors=3)"
      ]
     },
     "execution_count": 55,
     "metadata": {},
     "output_type": "execute_result"
    }
   ],
   "source": [
    "# Logistic regresion k-NN & SVN\n",
    "# PArameters sampling\n",
    "testr = 0.01\n",
    "testk = 0.2\n",
    "tests = 0.01\n",
    "# Randomisation factor ( I chose the answer to life, the universe and everything)\n",
    "alea = 42\n",
    "# Number of neighbours\n",
    "kn = 3\n",
    "# Just the required columns\n",
    "data = dflong.drop('Title', axis=1)\n",
    "\n",
    "\n",
    "#def analyse(tabla, j_test=pd.DataFrame(), test=0.2, alea = 42, plot='n', analisis='k',  n=12):\n",
    "print(f'\\n\\n\\n******************************************\\n\\Title:\\tX: {dflong.loc[dflong[\"Author\"] == \"X\"][\"Title\"].max()}\\n')\n",
    "trainer = data.loc[data['Author'].isin(candidates)]\n",
    "to_test = data.loc[data['Author'] == 'X'].drop('Author', axis=1).values\n",
    "    \n",
    "print('Regresion')\n",
    "analyse(trainer, to_test, 'r', testr, alea,'n', 3)\n",
    "  \n",
    "print('\\n-------------------------------------------------------\\n\\nSVN')\n",
    "    #testY = dfreglargo[dfreglargo['Autor'] == autor].drop('Autor', axis=1).values\n",
    "analyse(trainer, to_test,  's', tests, alea, 'rbf')\n",
    "    \n",
    "print('\\n-------------------------------------------------------\\n\\nKnn:\\n')\n",
    "analyse(trainer, to_test,  'k', testk, alea, 'y', kn)"
   ]
  }
 ],
 "metadata": {
  "kernelspec": {
   "display_name": "Python 3",
   "language": "python",
   "name": "python3"
  },
  "language_info": {
   "codemirror_mode": {
    "name": "ipython",
    "version": 3
   },
   "file_extension": ".py",
   "mimetype": "text/x-python",
   "name": "python",
   "nbconvert_exporter": "python",
   "pygments_lexer": "ipython3",
   "version": "3.9.2"
  }
 },
 "nbformat": 4,
 "nbformat_minor": 5
}
