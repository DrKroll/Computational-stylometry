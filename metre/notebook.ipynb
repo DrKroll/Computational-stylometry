{
 "cells": [
  {
   "cell_type": "code",
   "execution_count": null,
   "id": "d098f712",
   "metadata": {},
   "outputs": [],
   "source": [
    "# FIRST PART\n",
    "# 1. The word: phonological segments\n",
    "# 2. The verse: prosody\n",
    "# 3. The text: metatextual structure"
   ]
  },
  {
   "cell_type": "code",
   "execution_count": null,
   "id": "2500af15",
   "metadata": {},
   "outputs": [],
   "source": [
    "from libscansion import transcribe, nlp, silabas as slbs\n",
    "from silabeador import silabea\n",
    "from re import sub"
   ]
  },
  {
   "cell_type": "code",
   "execution_count": null,
   "id": "08049e86",
   "metadata": {},
   "outputs": [],
   "source": [
    "# A verse\n",
    "# Let's make a list of it\n",
    "text = 'Sueña el rico en su riqueza,'.split()"
   ]
  },
  {
   "cell_type": "code",
   "execution_count": null,
   "id": "f48832c3",
   "metadata": {},
   "outputs": [],
   "source": [
    "text"
   ]
  },
  {
   "cell_type": "code",
   "execution_count": null,
   "id": "a7847199",
   "metadata": {},
   "outputs": [],
   "source": [
    "# Hyphenation (orthographic spelling)\n",
    "silabea('Sueña')"
   ]
  },
  {
   "cell_type": "code",
   "execution_count": null,
   "id": "bf1ee32c",
   "metadata": {},
   "outputs": [],
   "source": [
    "syllables = []\n",
    "[syllables.append(silabea(word)) for word in text]\n",
    "syllables"
   ]
  },
  {
   "cell_type": "code",
   "execution_count": null,
   "id": "49db0607",
   "metadata": {},
   "outputs": [],
   "source": [
    "# Phonological transcription (almost)\n",
    "transcribe('Sueña')"
   ]
  },
  {
   "cell_type": "code",
   "execution_count": null,
   "id": "51175d4b",
   "metadata": {},
   "outputs": [],
   "source": [
    "phonemes = []\n",
    "[phonemes.append(\n",
    "    transcribe(sub(r'[^\\w\\s]','',word)))\n",
    "               for word in text]\n",
    "phonemes"
   ]
  },
  {
   "cell_type": "code",
   "execution_count": null,
   "id": "96fa7011",
   "metadata": {},
   "outputs": [],
   "source": [
    "for word in text:\n",
    "    print(word)\n",
    "    w = sub(r\"[^\\w\\s]\",\"\",word)\n",
    "    print(f'\"{w}\"')\n",
    "    print(transcribe(w))"
   ]
  },
  {
   "cell_type": "code",
   "execution_count": null,
   "id": "64003108",
   "metadata": {},
   "outputs": [],
   "source": [
    "morphosyntax = nlp('Sueña el rico en su riqueza')\n",
    "morphosyntax"
   ]
  },
  {
   "cell_type": "code",
   "execution_count": null,
   "id": "79c00464",
   "metadata": {},
   "outputs": [],
   "source": [
    "prosody = []\n",
    "for idx, word in enumerate(phonemes):\n",
    "    stressed = False\n",
    "    if morphosyntax.sentences[0].words[idx].upos in ['VERB', 'NOUN', 'ADJ']:\n",
    "        stressed = True\n",
    "    prosody.append((word, stressed))\n",
    "prosody"
   ]
  },
  {
   "cell_type": "code",
   "execution_count": null,
   "id": "3866db02",
   "metadata": {},
   "outputs": [],
   "source": [
    "sentence = ''\n",
    "for word in prosody:\n",
    "    sentence += ' '+' '.join([syllable if word[1] else syllable.strip(\"'\") for syllable in word[0]])\n",
    "        \n",
    "print(sentence)"
   ]
  },
  {
   "cell_type": "code",
   "execution_count": null,
   "id": "30ca6a8a",
   "metadata": {},
   "outputs": [],
   "source": [
    "# Probable lenghts\n",
    "length = [8, 11, 77]"
   ]
  },
  {
   "cell_type": "code",
   "execution_count": null,
   "id": "d44a08b7",
   "metadata": {},
   "outputs": [],
   "source": [
    "# Verse parsing\n",
    "verso = slbs('Sueña el rico en su riqueza', length)"
   ]
  },
  {
   "cell_type": "code",
   "execution_count": null,
   "id": "6cf24ae6",
   "metadata": {},
   "outputs": [],
   "source": [
    "# Prosodic stress\n",
    "verso.silabasmetricas"
   ]
  },
  {
   "cell_type": "code",
   "execution_count": null,
   "id": "ffa6e009",
   "metadata": {},
   "outputs": [],
   "source": [
    "verso.ritmo"
   ]
  },
  {
   "cell_type": "code",
   "execution_count": null,
   "id": "f79459cf",
   "metadata": {},
   "outputs": [],
   "source": [
    "verso.rima"
   ]
  },
  {
   "cell_type": "code",
   "execution_count": null,
   "id": "d77dce5e",
   "metadata": {},
   "outputs": [],
   "source": [
    "verso.ason"
   ]
  },
  {
   "cell_type": "code",
   "execution_count": null,
   "id": "52881288",
   "metadata": {},
   "outputs": [],
   "source": [
    "verso.ml"
   ]
  },
  {
   "cell_type": "code",
   "execution_count": null,
   "id": "331ce09f",
   "metadata": {},
   "outputs": [],
   "source": [
    "verso.nucleosilabico"
   ]
  },
  {
   "cell_type": "code",
   "execution_count": null,
   "id": "fcc4f6fc",
   "metadata": {},
   "outputs": [],
   "source": [
    "verso.ambiguo"
   ]
  },
  {
   "cell_type": "code",
   "execution_count": null,
   "id": "0eb68b4d",
   "metadata": {},
   "outputs": [],
   "source": [
    "########################################"
   ]
  },
  {
   "cell_type": "code",
   "execution_count": null,
   "id": "1061ddf9",
   "metadata": {},
   "outputs": [],
   "source": [
    "# SECOND PART --+---+-"
   ]
  },
  {
   "cell_type": "code",
   "execution_count": null,
   "id": "72c3d507",
   "metadata": {},
   "outputs": [],
   "source": [
    "########################################3\n",
    "# 1. Modules\n",
    "# 2. Optional visualisation variables\n",
    "# 3. Preprocessing functions\n",
    "# 4. Tabular functions\n",
    "# 5. Statistic functions\n",
    "# 6. Body"
   ]
  },
  {
   "cell_type": "code",
   "execution_count": null,
   "id": "916322be",
   "metadata": {},
   "outputs": [],
   "source": [
    "# 1. MODULES"
   ]
  },
  {
   "cell_type": "code",
   "execution_count": null,
   "id": "dd2a1d4f",
   "metadata": {},
   "outputs": [],
   "source": [
    "# Import modules\n",
    "\n",
    "import pandas as pd\n",
    "import seaborn as sns\n",
    "import matplotlib.pyplot as plt\n",
    "import numpy as np\n",
    "import statsmodels.api as sm\n",
    "import statsmodels.formula.api as smf\n",
    "import collections\n",
    "import re\n",
    "from statsmodels.multivariate.manova import MANOVA"
   ]
  },
  {
   "cell_type": "code",
   "execution_count": null,
   "id": "7aedb6f7",
   "metadata": {},
   "outputs": [],
   "source": [
    "# 2. VISUALISATION VARIABLES\n",
    "# Number of lines shown &c.\n",
    "\n",
    "pd.set_option('display.max_rows', None)\n",
    "pd.set_option('display.max_columns', None)\n",
    "pd.set_option('display.width', None)\n",
    "pd.set_option('display.max_colwidth', None)"
   ]
  },
  {
   "cell_type": "code",
   "execution_count": null,
   "id": "5509a2b3",
   "metadata": {},
   "outputs": [],
   "source": [
    "# 4. TABULAR FUNCTIONS"
   ]
  },
  {
   "cell_type": "code",
   "execution_count": null,
   "id": "10d511ee",
   "metadata": {},
   "outputs": [],
   "source": [
    "def samples(data, authors, nsamples):\n",
    "    import numpy as np\n",
    "    sample = pd.DataFrame()\n",
    "    for i in authors:\n",
    "        g = data.loc[data['Author'] == i].groupby('Title')\n",
    "        a = np.arange(g.ngroups)\n",
    "        np.random.shuffle(a)\n",
    "        sample = sample.append(data.loc[df['Author'] == i][g.ngroup().isin(a[:nsamples])])\n",
    "    return sample"
   ]
  },
  {
   "cell_type": "code",
   "execution_count": null,
   "id": "4ca5cf98",
   "metadata": {},
   "outputs": [],
   "source": [
    "def recount(data, columna):\n",
    "    dfritmo = pd.DataFrame()\n",
    "    valores = pd.unique(data[columna])\n",
    "    obras = pd.unique(data['Title'])\n",
    "    for obra in obras:\n",
    "        nversos = len(data[data['Title'] == obra])\n",
    "        cuentas = {}\n",
    "        autor =  data.loc[data['Title'] == obra]['Author'].value_counts()[:1].index.tolist()[0]\n",
    "        for valor in valores:\n",
    "            fila = {'Title': obra, 'Author': autor}\n",
    "            cuenta = len(data.loc[data['Title'] == obra][data[columna] == valor])\n",
    "            relcuenta = cuenta/nversos\n",
    "            fila = {'Title': obra, 'Author': autor, columna: valor, 'Count': cuenta, 'RelCount' : relcuenta}\n",
    "            if cuenta > 0:           \n",
    "                dfritmo = dfritmo.append(fila, ignore_index=True)\n",
    "    return dfritmo.convert_dtypes()"
   ]
  },
  {
   "cell_type": "code",
   "execution_count": null,
   "id": "9d6f69d4",
   "metadata": {},
   "outputs": [],
   "source": [
    "def longformat(data, columna, cuenta='Count'):\n",
    "    dflargo = pd.DataFrame()\n",
    "    obras = pd.unique(data['Title'])\n",
    "    variables = pd.unique(data[columna])\n",
    "    calderon = lope = mira = 0\n",
    "    for obra in obras:\n",
    "        subconjunto = data[data['Title'] == obra]\n",
    "        autor = max(subconjunto['Author'])\n",
    "        fila = {'Author': autor, 'Title': obra}\n",
    "        for var in variables:\n",
    "            suma = subconjunto[subconjunto[columna] == var]['Count'].sum()\n",
    "            fila.update({var: suma})\n",
    "        dflargo = dflargo.append(fila, ignore_index=True)\n",
    "    return dflargo.convert_dtypes()"
   ]
  },
  {
   "cell_type": "code",
   "execution_count": null,
   "id": "a464e293",
   "metadata": {},
   "outputs": [],
   "source": [
    "def min_freq(data, columna, minimo):\n",
    "    return data.groupby(columna).filter(lambda x : (x[columna].count()>=minimo).any()).convert_dtypes()"
   ]
  },
  {
   "cell_type": "code",
   "execution_count": null,
   "id": "5db12e0f",
   "metadata": {},
   "outputs": [],
   "source": [
    "#5. STATISTIC FUNCTIONS"
   ]
  },
  {
   "cell_type": "code",
   "execution_count": null,
   "id": "8a8058a0",
   "metadata": {},
   "outputs": [],
   "source": [
    "def analyse(data, j_test=pd.DataFrame(), analisis='k', test=0.2, alea = 42, plot='rbf', n=3):\n",
    "    X = data.drop('Author', axis=1).values\n",
    "    y = data['Author'].values\n",
    "    \n",
    "    from sklearn.model_selection import train_test_split\n",
    "    X_train, X_test, y_train, y_test = train_test_split(X, y, test_size=test, random_state=alea)\n",
    "    if analisis == 'k':\n",
    "        from sklearn.neighbors import KNeighborsClassifier\n",
    "        neighbors = np.arange(1,12)\n",
    "        train_accuracy =np.empty(len(neighbors))\n",
    "        test_accuracy = np.empty(len(neighbors))    \n",
    "        for i,k in enumerate(neighbors):\n",
    "            modelo = KNeighborsClassifier(n_neighbors=k)\n",
    "            modelo.fit(X_train,y_train)\n",
    "            train_accuracy[i] = modelo.score(X_train,y_train)\n",
    "            test_accuracy[i] = modelo.score(X_test, y_test)\n",
    "        if plot == 'y':\n",
    "            plt.rcParams[\"figure.figsize\"] = (10,8)\n",
    "            plt.title('k-NN number of neighbours')\n",
    "            plt.plot(neighbors, test_accuracy, label='Test Accuracy')\n",
    "            plt.plot(neighbors, train_accuracy, label='Training accuracy')\n",
    "            plt.legend()\n",
    "            plt.xlabel('Number of neighbours')\n",
    "            plt.ylabel('Accuracy')\n",
    "            plt.show()\n",
    "        else:\n",
    "            print(test_accuracy)\n",
    "        modelo = KNeighborsClassifier(n_neighbors=n)\n",
    "        modelo.fit(X_train,y_train)\n",
    "    elif analisis == 'r':\n",
    "        from sklearn.preprocessing import StandardScaler\n",
    "        sc = StandardScaler()\n",
    "        X_train = sc.fit_transform(X_train)\n",
    "        X_test = sc.transform(X_test)\n",
    "    \n",
    "        j_test = sc.transform(j_test)\n",
    "        from sklearn.linear_model import LogisticRegression\n",
    "        modelo = LogisticRegression(max_iter=1000,  random_state=alea)\n",
    "        modelo.fit(X_train,y_train)\n",
    "        y_pred = modelo.predict(X_test)\n",
    "    elif analisis == 's':\n",
    "        from sklearn import svm\n",
    "        modelo = svm.SVC(kernel=plot)\n",
    "        modelo.fit(X_train,y_train)\n",
    "    else:\n",
    "        return False\n",
    "    from sklearn.metrics import classification_report\n",
    "    print(f'Score: {modelo.score(X_test,y_test)}')\n",
    "    from sklearn.metrics import confusion_matrix\n",
    "    y_pred = modelo.predict(X_test)\n",
    "    print(modelo.predict(j_test))\n",
    "    return modelo"
   ]
  },
  {
   "cell_type": "code",
   "execution_count": null,
   "id": "6b5351dd",
   "metadata": {},
   "outputs": [],
   "source": [
    "#6. IT STARTS HERE"
   ]
  },
  {
   "cell_type": "code",
   "execution_count": null,
   "id": "2cfa8464",
   "metadata": {},
   "outputs": [],
   "source": [
    "# Load input file\n",
    "entrada = 'data.csv'\n",
    "df = pd.read_csv(entrada)\n",
    "df['Rhythm'] = df['Rhythm'].str.replace('+','X').str.replace('-','o')\n",
    "df.head()"
   ]
  },
  {
   "cell_type": "code",
   "execution_count": null,
   "id": "a1980ea7",
   "metadata": {},
   "outputs": [],
   "source": [
    "# Show authors\n",
    "authors = df['Author'].unique()\n",
    "print(authors)"
   ]
  },
  {
   "cell_type": "code",
   "execution_count": null,
   "id": "d7d7dfa3",
   "metadata": {},
   "outputs": [],
   "source": [
    "# Show titles\n",
    "titles = df['Title'].unique()\n",
    "len(titles)"
   ]
  },
  {
   "cell_type": "code",
   "execution_count": null,
   "id": "ef75bee1",
   "metadata": {},
   "outputs": [],
   "source": [
    "df.groupby(['Author','Title']).size()"
   ]
  },
  {
   "cell_type": "code",
   "execution_count": null,
   "id": "c00de97c",
   "metadata": {},
   "outputs": [],
   "source": [
    "# Yo make things simpler later\n",
    "all_authors = ['Calderón', 'Lope', 'Mira', 'X']\n",
    "candidates = ['Calderón', 'Lope', 'Mira']\n",
    "disputed = 'X'"
   ]
  },
  {
   "cell_type": "code",
   "execution_count": null,
   "id": "1792b4a8",
   "metadata": {},
   "outputs": [],
   "source": [
    "# I just want octosyllabic verses\n",
    "df = df.loc[df['Syllables'] == 8]"
   ]
  },
  {
   "cell_type": "code",
   "execution_count": null,
   "id": "c73debc8",
   "metadata": {},
   "outputs": [],
   "source": [
    "# Candidates\n",
    "candidatesdf = df[df['Author'] != disputed]\n",
    "\n",
    "# Disputed\n",
    "disputeddf = df.loc[df['Author'] == disputed]"
   ]
  },
  {
   "cell_type": "code",
   "execution_count": null,
   "id": "15de2d5d",
   "metadata": {},
   "outputs": [],
   "source": [
    "# I don't want very unusual hythms \n",
    "df = min_freq(df, 'Rhythm',  100)\n",
    "\n",
    "disputeddf = df.loc[df['Author'] == disputed]\n",
    "candidatesdf = df.loc[df['Author'] != disputed]"
   ]
  },
  {
   "cell_type": "code",
   "execution_count": null,
   "id": "baafa0c0",
   "metadata": {},
   "outputs": [],
   "source": [
    "# Count rhythms\n",
    "dfcount = recount(df, 'Rhythm')\n",
    "dfcandidatescount = recount(candidatesdf, 'Rhythm')"
   ]
  },
  {
   "cell_type": "code",
   "execution_count": null,
   "id": "39329853",
   "metadata": {},
   "outputs": [],
   "source": [
    "# Hustogram\n",
    "plt.figure(figsize=(16,8))\n",
    "plt.xticks(rotation=45)\n",
    "plot = sns.histplot(x='Rhythm', hue='Author', data=candidatesdf, multiple=\"stack\") #, palette=paleta,multiple='stack'"
   ]
  },
  {
   "cell_type": "code",
   "execution_count": null,
   "id": "d0aba4bf",
   "metadata": {},
   "outputs": [],
   "source": [
    "# Variance (boxes)\n",
    "plt.figure(figsize=(16,8))\n",
    "plt.xticks(rotation=45)\n",
    "plot = sns.boxplot(x='Rhythm', y='Count', hue='Author', data=dfcandidatescount, medianprops=dict(color=\"white\", alpha=0.7))\n"
   ]
  },
  {
   "cell_type": "code",
   "execution_count": null,
   "id": "29af0124",
   "metadata": {},
   "outputs": [],
   "source": [
    "# Long format (Eacxh rhtyhm is a column)\n",
    "dflong = longformat(dfcount, 'Rhythm', 'Count')\n",
    "dfcandidateslong = longformat(dfcandidatescount, 'Rhythm', 'Count')"
   ]
  },
  {
   "cell_type": "code",
   "execution_count": null,
   "id": "94714fc4",
   "metadata": {},
   "outputs": [],
   "source": [
    "# Scatterplot (dots) --+---+-\n",
    "plt.xticks(rotation=45)\n",
    "plot = sns.scatterplot(data=dfcandidateslong, x='oXooXoXo', y='ooXoooXo', hue=\"Author\") #    ooXoooXo oooXooXo oXooXoX oooXooXo oXooXoXo"
   ]
  },
  {
   "cell_type": "code",
   "execution_count": null,
   "id": "a91531cd",
   "metadata": {},
   "outputs": [],
   "source": [
    "# Logistic regresion k-NN & SVN\n",
    "# PArameters sampling\n",
    "testr = 0.01\n",
    "testk = 0.2\n",
    "tests = 0.01\n",
    "# Randomisation factor ( I chose the answer to life, the universe and everything)\n",
    "alea = 42\n",
    "# Number of neighbours\n",
    "kn = 4\n",
    "# Just the required columns\n",
    "data = dflong.drop('Title', axis=1)\n",
    "\n",
    "\n",
    "#def analyse(tabla, j_test=pd.DataFrame(), test=0.2, alea = 42, plot='n', analisis='k',  n=12):\n",
    "print(f'\\n\\n\\n******************************************\\n\\Title:\\tX: {dflong.loc[dflong[\"Author\"] == \"X\"][\"Title\"].max()}\\n')\n",
    "trainer = data.loc[data['Author'].isin(candidates)]\n",
    "to_test = data.loc[data['Author'] == 'X'].drop('Author', axis=1).values\n",
    "    \n",
    "print('Regresion')\n",
    "analyse(trainer, to_test, 'r', testr, alea,'n', 3)\n",
    "  \n",
    "print('\\n-------------------------------------------------------\\n\\nSVN')\n",
    "    #testY = dfreglargo[dfreglargo['Autor'] == autor].drop('Autor', axis=1).values\n",
    "analyse(trainer, to_test,  's', tests, alea, 'rbf')\n",
    "    \n",
    "print('\\n-------------------------------------------------------\\n\\nKnn:\\n')\n",
    "analyse(trainer, to_test,  'k', testk, alea, 'y', kn)"
   ]
  }
 ],
 "metadata": {
  "kernelspec": {
   "display_name": "Python 3",
   "language": "python",
   "name": "python3"
  },
  "language_info": {
   "codemirror_mode": {
    "name": "ipython",
    "version": 3
   },
   "file_extension": ".py",
   "mimetype": "text/x-python",
   "name": "python",
   "nbconvert_exporter": "python",
   "pygments_lexer": "ipython3",
   "version": "3.9.2"
  }
 },
 "nbformat": 4,
 "nbformat_minor": 5
}
